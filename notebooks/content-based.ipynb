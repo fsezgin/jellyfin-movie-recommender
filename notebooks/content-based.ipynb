{
 "cells": [
  {
   "cell_type": "markdown",
   "id": "e84524ee-1f75-4c2c-9df8-eb09108ed1a1",
   "metadata": {},
   "source": [
    "## Imports & Configurations"
   ]
  },
  {
   "cell_type": "code",
   "execution_count": 9,
   "id": "678d3767-804c-44d4-acc9-5c6e4fb31e16",
   "metadata": {},
   "outputs": [],
   "source": [
    "import os\n",
    "\n",
    "import pandas as pd\n",
    "import numpy as np\n",
    "\n",
    "import matplotlib.pyplot as plt\n",
    "import seaborn as sns"
   ]
  },
  {
   "cell_type": "code",
   "execution_count": 10,
   "id": "a9faeddf-c643-409a-a4f9-5efcb9fa4954",
   "metadata": {},
   "outputs": [],
   "source": [
    "MOVIES_PATH = r\"C:\\Users\\lunaf\\Desktop\\Projects\\jellyfin-movie-recommender\\data\\raw\\movies.csv\"\n",
    "GENOME_TAGS_PATH = r\"C:\\Users\\lunaf\\Desktop\\Projects\\jellyfin-movie-recommender\\data\\raw\\genome-tags.csv\"\n",
    "GENOME_SCORES_PATH = r\"C:\\Users\\lunaf\\Desktop\\Projects\\jellyfin-movie-recommender\\data\\raw\\genome-scores.csv\"\n",
    "TAGS_PATH =r\"C:\\Users\\lunaf\\Desktop\\Projects\\jellyfin-movie-recommender\\data\\raw\\tags.csv\"\n",
    "RELEVANCE_THRESHOLD = 0.2"
   ]
  },
  {
   "cell_type": "code",
   "execution_count": 11,
   "id": "a54746d2-81f8-4dad-9c66-9116cdbd821d",
   "metadata": {},
   "outputs": [],
   "source": [
    "movies_df = pd.read_csv(MOVIES_PATH)\n",
    "genome_tags_df = pd.read_csv(GENOME_TAGS_PATH)\n",
    "genome_scores_df = pd.read_csv(GENOME_SCORES_PATH)\n",
    "tags_df = pd.read_csv(TAGS_PATH)"
   ]
  },
  {
   "cell_type": "markdown",
   "id": "2b4f4079-f993-459f-87c0-66012d0ed428",
   "metadata": {},
   "source": [
    "## Data Preprocessing & Feature Engineering"
   ]
  },
  {
   "cell_type": "code",
   "execution_count": 12,
   "id": "04702a5e-e7ad-4a79-9228-72e7f656a544",
   "metadata": {},
   "outputs": [
    {
     "name": "stdout",
     "output_type": "stream",
     "text": [
      "First 5 row:\n",
      "\n",
      "   movieId                               title  \\\n",
      "0        1                    Toy Story (1995)   \n",
      "1        2                      Jumanji (1995)   \n",
      "2        3             Grumpier Old Men (1995)   \n",
      "3        4            Waiting to Exhale (1995)   \n",
      "4        5  Father of the Bride Part II (1995)   \n",
      "\n",
      "                                        genres  \n",
      "0  Adventure|Animation|Children|Comedy|Fantasy  \n",
      "1                   Adventure|Children|Fantasy  \n",
      "2                               Comedy|Romance  \n",
      "3                         Comedy|Drama|Romance  \n",
      "4                                       Comedy  \n",
      "Information:\n",
      "\n",
      "<class 'pandas.core.frame.DataFrame'>\n",
      "RangeIndex: 86537 entries, 0 to 86536\n",
      "Data columns (total 3 columns):\n",
      " #   Column   Non-Null Count  Dtype \n",
      "---  ------   --------------  ----- \n",
      " 0   movieId  86537 non-null  int64 \n",
      " 1   title    86537 non-null  object\n",
      " 2   genres   86537 non-null  object\n",
      "dtypes: int64(1), object(2)\n",
      "memory usage: 2.0+ MB\n",
      "None\n",
      "Shape:\n",
      "\n",
      "(86537, 3)\n",
      "First 5 row:\n",
      "\n",
      "   tagId           tag\n",
      "0      1           007\n",
      "1      2  007 (series)\n",
      "2      3  18th century\n",
      "3      4         1920s\n",
      "4      5         1930s\n",
      "Information:\n",
      "\n",
      "<class 'pandas.core.frame.DataFrame'>\n",
      "RangeIndex: 1128 entries, 0 to 1127\n",
      "Data columns (total 2 columns):\n",
      " #   Column  Non-Null Count  Dtype \n",
      "---  ------  --------------  ----- \n",
      " 0   tagId   1128 non-null   int64 \n",
      " 1   tag     1128 non-null   object\n",
      "dtypes: int64(1), object(1)\n",
      "memory usage: 17.8+ KB\n",
      "None\n",
      "Shape:\n",
      "\n",
      "(1128, 2)\n",
      "First 5 row:\n",
      "\n",
      "   movieId  tagId  relevance\n",
      "0        1      1    0.03200\n",
      "1        1      2    0.02225\n",
      "2        1      3    0.07000\n",
      "3        1      4    0.05900\n",
      "4        1      5    0.12300\n",
      "Information:\n",
      "\n",
      "<class 'pandas.core.frame.DataFrame'>\n",
      "RangeIndex: 18472128 entries, 0 to 18472127\n",
      "Data columns (total 3 columns):\n",
      " #   Column     Dtype  \n",
      "---  ------     -----  \n",
      " 0   movieId    int64  \n",
      " 1   tagId      int64  \n",
      " 2   relevance  float64\n",
      "dtypes: float64(1), int64(2)\n",
      "memory usage: 422.8 MB\n",
      "None\n",
      "Shape:\n",
      "\n",
      "(18472128, 3)\n",
      "First 5 row:\n",
      "\n",
      "   userId  movieId            tag   timestamp\n",
      "0      10      260   good vs evil  1430666558\n",
      "1      10      260  Harrison Ford  1430666505\n",
      "2      10      260         sci-fi  1430666538\n",
      "3      14     1221      Al Pacino  1311600756\n",
      "4      14     1221          mafia  1311600746\n",
      "Information:\n",
      "\n",
      "<class 'pandas.core.frame.DataFrame'>\n",
      "RangeIndex: 2328315 entries, 0 to 2328314\n",
      "Data columns (total 4 columns):\n",
      " #   Column     Dtype \n",
      "---  ------     ----- \n",
      " 0   userId     int64 \n",
      " 1   movieId    int64 \n",
      " 2   tag        object\n",
      " 3   timestamp  int64 \n",
      "dtypes: int64(3), object(1)\n",
      "memory usage: 71.1+ MB\n",
      "None\n",
      "Shape:\n",
      "\n",
      "(2328315, 4)\n"
     ]
    }
   ],
   "source": [
    "df_list = [movies_df, genome_tags_df, genome_scores_df, tags_df]\n",
    "\n",
    "for df in df_list:\n",
    "    print(\"First 5 row:\\n\")\n",
    "    print(df.head())\n",
    "    print(\"Information:\\n\")\n",
    "    print(df.info())\n",
    "    print(\"Shape:\\n\")\n",
    "    print(df.shape)"
   ]
  },
  {
   "cell_type": "markdown",
   "id": "ac2a4153-e660-44ed-9fbf-73298022c7c8",
   "metadata": {
    "jp-MarkdownHeadingCollapsed": true
   },
   "source": [
    "\n",
    "**⚠️ Note:**\n",
    "\n",
    "Relevance is representation of all tags on all movies. That's why, I think ı should define a threshold for relevance score and then i can pick tags that relavance scores are higher than threshold to correspond it with movies."
   ]
  },
  {
   "cell_type": "code",
   "execution_count": 8,
   "id": "5e464399-a7af-45e1-9779-5e196faadb69",
   "metadata": {},
   "outputs": [
    {
     "ename": "KeyboardInterrupt",
     "evalue": "",
     "output_type": "error",
     "traceback": [
      "\u001b[1;31m---------------------------------------------------------------------------\u001b[0m",
      "\u001b[1;31mKeyboardInterrupt\u001b[0m                         Traceback (most recent call last)",
      "Cell \u001b[1;32mIn[8], line 4\u001b[0m\n\u001b[0;32m      1\u001b[0m plt\u001b[38;5;241m.\u001b[39mfigure(figsize\u001b[38;5;241m=\u001b[39m(\u001b[38;5;241m10\u001b[39m, \u001b[38;5;241m6\u001b[39m))\n\u001b[0;32m      3\u001b[0m \u001b[38;5;66;03m# Histogram + KDE\u001b[39;00m\n\u001b[1;32m----> 4\u001b[0m \u001b[43msns\u001b[49m\u001b[38;5;241;43m.\u001b[39;49m\u001b[43mhistplot\u001b[49m\u001b[43m(\u001b[49m\u001b[43mgenome_scores_df\u001b[49m\u001b[43m[\u001b[49m\u001b[38;5;124;43m\"\u001b[39;49m\u001b[38;5;124;43mrelevance\u001b[39;49m\u001b[38;5;124;43m\"\u001b[39;49m\u001b[43m]\u001b[49m\u001b[43m,\u001b[49m\u001b[43m \u001b[49m\u001b[43mbins\u001b[49m\u001b[38;5;241;43m=\u001b[39;49m\u001b[38;5;241;43m100\u001b[39;49m\u001b[43m,\u001b[49m\u001b[43m \u001b[49m\u001b[43mkde\u001b[49m\u001b[38;5;241;43m=\u001b[39;49m\u001b[38;5;28;43;01mTrue\u001b[39;49;00m\u001b[43m,\u001b[49m\u001b[43m \u001b[49m\u001b[43mcolor\u001b[49m\u001b[38;5;241;43m=\u001b[39;49m\u001b[38;5;124;43m\"\u001b[39;49m\u001b[38;5;124;43mskyblue\u001b[39;49m\u001b[38;5;124;43m\"\u001b[39;49m\u001b[43m)\u001b[49m\n\u001b[0;32m      5\u001b[0m plt\u001b[38;5;241m.\u001b[39mtitle(\u001b[38;5;124m\"\u001b[39m\u001b[38;5;124mDistribution of Tag Relevance Scores\u001b[39m\u001b[38;5;124m\"\u001b[39m, fontsize\u001b[38;5;241m=\u001b[39m\u001b[38;5;241m14\u001b[39m)\n\u001b[0;32m      6\u001b[0m plt\u001b[38;5;241m.\u001b[39mxlabel(\u001b[38;5;124m\"\u001b[39m\u001b[38;5;124mRelevance Score\u001b[39m\u001b[38;5;124m\"\u001b[39m)\n",
      "File \u001b[1;32m~\\miniconda3\\envs\\tf_env\\lib\\site-packages\\seaborn\\distributions.py:1379\u001b[0m, in \u001b[0;36mhistplot\u001b[1;34m(data, x, y, hue, weights, stat, bins, binwidth, binrange, discrete, cumulative, common_bins, common_norm, multiple, element, fill, shrink, kde, kde_kws, line_kws, thresh, pthresh, pmax, cbar, cbar_ax, cbar_kws, palette, hue_order, hue_norm, color, log_scale, legend, ax, **kwargs)\u001b[0m\n\u001b[0;32m   1358\u001b[0m \u001b[38;5;28;01mdef\u001b[39;00m\u001b[38;5;250m \u001b[39m\u001b[38;5;21mhistplot\u001b[39m(\n\u001b[0;32m   1359\u001b[0m     data\u001b[38;5;241m=\u001b[39m\u001b[38;5;28;01mNone\u001b[39;00m, \u001b[38;5;241m*\u001b[39m,\n\u001b[0;32m   1360\u001b[0m     \u001b[38;5;66;03m# Vector variables\u001b[39;00m\n\u001b[1;32m   (...)\u001b[0m\n\u001b[0;32m   1376\u001b[0m     \u001b[38;5;241m*\u001b[39m\u001b[38;5;241m*\u001b[39mkwargs,\n\u001b[0;32m   1377\u001b[0m ):\n\u001b[1;32m-> 1379\u001b[0m     p \u001b[38;5;241m=\u001b[39m \u001b[43m_DistributionPlotter\u001b[49m\u001b[43m(\u001b[49m\n\u001b[0;32m   1380\u001b[0m \u001b[43m        \u001b[49m\u001b[43mdata\u001b[49m\u001b[38;5;241;43m=\u001b[39;49m\u001b[43mdata\u001b[49m\u001b[43m,\u001b[49m\n\u001b[0;32m   1381\u001b[0m \u001b[43m        \u001b[49m\u001b[43mvariables\u001b[49m\u001b[38;5;241;43m=\u001b[39;49m\u001b[38;5;28;43mdict\u001b[39;49m\u001b[43m(\u001b[49m\u001b[43mx\u001b[49m\u001b[38;5;241;43m=\u001b[39;49m\u001b[43mx\u001b[49m\u001b[43m,\u001b[49m\u001b[43m \u001b[49m\u001b[43my\u001b[49m\u001b[38;5;241;43m=\u001b[39;49m\u001b[43my\u001b[49m\u001b[43m,\u001b[49m\u001b[43m \u001b[49m\u001b[43mhue\u001b[49m\u001b[38;5;241;43m=\u001b[39;49m\u001b[43mhue\u001b[49m\u001b[43m,\u001b[49m\u001b[43m \u001b[49m\u001b[43mweights\u001b[49m\u001b[38;5;241;43m=\u001b[39;49m\u001b[43mweights\u001b[49m\u001b[43m)\u001b[49m\u001b[43m,\u001b[49m\n\u001b[0;32m   1382\u001b[0m \u001b[43m    \u001b[49m\u001b[43m)\u001b[49m\n\u001b[0;32m   1384\u001b[0m     p\u001b[38;5;241m.\u001b[39mmap_hue(palette\u001b[38;5;241m=\u001b[39mpalette, order\u001b[38;5;241m=\u001b[39mhue_order, norm\u001b[38;5;241m=\u001b[39mhue_norm)\n\u001b[0;32m   1386\u001b[0m     \u001b[38;5;28;01mif\u001b[39;00m ax \u001b[38;5;129;01mis\u001b[39;00m \u001b[38;5;28;01mNone\u001b[39;00m:\n",
      "File \u001b[1;32m~\\miniconda3\\envs\\tf_env\\lib\\site-packages\\seaborn\\distributions.py:110\u001b[0m, in \u001b[0;36m_DistributionPlotter.__init__\u001b[1;34m(self, data, variables)\u001b[0m\n\u001b[0;32m    104\u001b[0m \u001b[38;5;28;01mdef\u001b[39;00m\u001b[38;5;250m \u001b[39m\u001b[38;5;21m__init__\u001b[39m(\n\u001b[0;32m    105\u001b[0m     \u001b[38;5;28mself\u001b[39m,\n\u001b[0;32m    106\u001b[0m     data\u001b[38;5;241m=\u001b[39m\u001b[38;5;28;01mNone\u001b[39;00m,\n\u001b[0;32m    107\u001b[0m     variables\u001b[38;5;241m=\u001b[39m{},\n\u001b[0;32m    108\u001b[0m ):\n\u001b[1;32m--> 110\u001b[0m     \u001b[38;5;28;43msuper\u001b[39;49m\u001b[43m(\u001b[49m\u001b[43m)\u001b[49m\u001b[38;5;241;43m.\u001b[39;49m\u001b[38;5;21;43m__init__\u001b[39;49m\u001b[43m(\u001b[49m\u001b[43mdata\u001b[49m\u001b[38;5;241;43m=\u001b[39;49m\u001b[43mdata\u001b[49m\u001b[43m,\u001b[49m\u001b[43m \u001b[49m\u001b[43mvariables\u001b[49m\u001b[38;5;241;43m=\u001b[39;49m\u001b[43mvariables\u001b[49m\u001b[43m)\u001b[49m\n",
      "File \u001b[1;32m~\\miniconda3\\envs\\tf_env\\lib\\site-packages\\seaborn\\_base.py:634\u001b[0m, in \u001b[0;36mVectorPlotter.__init__\u001b[1;34m(self, data, variables)\u001b[0m\n\u001b[0;32m    629\u001b[0m \u001b[38;5;66;03m# var_ordered is relevant only for categorical axis variables, and may\u001b[39;00m\n\u001b[0;32m    630\u001b[0m \u001b[38;5;66;03m# be better handled by an internal axis information object that tracks\u001b[39;00m\n\u001b[0;32m    631\u001b[0m \u001b[38;5;66;03m# such information and is set up by the scale_* methods. The analogous\u001b[39;00m\n\u001b[0;32m    632\u001b[0m \u001b[38;5;66;03m# information for numeric axes would be information about log scales.\u001b[39;00m\n\u001b[0;32m    633\u001b[0m \u001b[38;5;28mself\u001b[39m\u001b[38;5;241m.\u001b[39m_var_ordered \u001b[38;5;241m=\u001b[39m {\u001b[38;5;124m\"\u001b[39m\u001b[38;5;124mx\u001b[39m\u001b[38;5;124m\"\u001b[39m: \u001b[38;5;28;01mFalse\u001b[39;00m, \u001b[38;5;124m\"\u001b[39m\u001b[38;5;124my\u001b[39m\u001b[38;5;124m\"\u001b[39m: \u001b[38;5;28;01mFalse\u001b[39;00m}  \u001b[38;5;66;03m# alt., used DefaultDict\u001b[39;00m\n\u001b[1;32m--> 634\u001b[0m \u001b[38;5;28;43mself\u001b[39;49m\u001b[38;5;241;43m.\u001b[39;49m\u001b[43massign_variables\u001b[49m\u001b[43m(\u001b[49m\u001b[43mdata\u001b[49m\u001b[43m,\u001b[49m\u001b[43m \u001b[49m\u001b[43mvariables\u001b[49m\u001b[43m)\u001b[49m\n\u001b[0;32m    636\u001b[0m \u001b[38;5;66;03m# TODO Lots of tests assume that these are called to initialize the\u001b[39;00m\n\u001b[0;32m    637\u001b[0m \u001b[38;5;66;03m# mappings to default values on class initialization. I'd prefer to\u001b[39;00m\n\u001b[0;32m    638\u001b[0m \u001b[38;5;66;03m# move away from that and only have a mapping when explicitly called.\u001b[39;00m\n\u001b[0;32m    639\u001b[0m \u001b[38;5;28;01mfor\u001b[39;00m var \u001b[38;5;129;01min\u001b[39;00m [\u001b[38;5;124m\"\u001b[39m\u001b[38;5;124mhue\u001b[39m\u001b[38;5;124m\"\u001b[39m, \u001b[38;5;124m\"\u001b[39m\u001b[38;5;124msize\u001b[39m\u001b[38;5;124m\"\u001b[39m, \u001b[38;5;124m\"\u001b[39m\u001b[38;5;124mstyle\u001b[39m\u001b[38;5;124m\"\u001b[39m]:\n",
      "File \u001b[1;32m~\\miniconda3\\envs\\tf_env\\lib\\site-packages\\seaborn\\_base.py:673\u001b[0m, in \u001b[0;36mVectorPlotter.assign_variables\u001b[1;34m(self, data, variables)\u001b[0m\n\u001b[0;32m    671\u001b[0m \u001b[38;5;28;01mif\u001b[39;00m x \u001b[38;5;129;01mis\u001b[39;00m \u001b[38;5;28;01mNone\u001b[39;00m \u001b[38;5;129;01mand\u001b[39;00m y \u001b[38;5;129;01mis\u001b[39;00m \u001b[38;5;28;01mNone\u001b[39;00m:\n\u001b[0;32m    672\u001b[0m     \u001b[38;5;28mself\u001b[39m\u001b[38;5;241m.\u001b[39minput_format \u001b[38;5;241m=\u001b[39m \u001b[38;5;124m\"\u001b[39m\u001b[38;5;124mwide\u001b[39m\u001b[38;5;124m\"\u001b[39m\n\u001b[1;32m--> 673\u001b[0m     frame, names \u001b[38;5;241m=\u001b[39m \u001b[38;5;28mself\u001b[39m\u001b[38;5;241m.\u001b[39m_assign_variables_wideform(data, \u001b[38;5;241m*\u001b[39m\u001b[38;5;241m*\u001b[39mvariables)\n\u001b[0;32m    674\u001b[0m \u001b[38;5;28;01melse\u001b[39;00m:\n\u001b[0;32m    675\u001b[0m     \u001b[38;5;66;03m# When dealing with long-form input, use the newer PlotData\u001b[39;00m\n\u001b[0;32m    676\u001b[0m     \u001b[38;5;66;03m# object (internal but introduced for the objects interface)\u001b[39;00m\n\u001b[0;32m    677\u001b[0m     \u001b[38;5;66;03m# to centralize / standardize data consumption logic.\u001b[39;00m\n\u001b[0;32m    678\u001b[0m     \u001b[38;5;28mself\u001b[39m\u001b[38;5;241m.\u001b[39minput_format \u001b[38;5;241m=\u001b[39m \u001b[38;5;124m\"\u001b[39m\u001b[38;5;124mlong\u001b[39m\u001b[38;5;124m\"\u001b[39m\n",
      "File \u001b[1;32m~\\miniconda3\\envs\\tf_env\\lib\\site-packages\\seaborn\\_base.py:733\u001b[0m, in \u001b[0;36mVectorPlotter._assign_variables_wideform\u001b[1;34m(self, data, **kwargs)\u001b[0m\n\u001b[0;32m    731\u001b[0m \u001b[38;5;28;01melse\u001b[39;00m:\n\u001b[0;32m    732\u001b[0m     values \u001b[38;5;241m=\u001b[39m np\u001b[38;5;241m.\u001b[39matleast_1d(np\u001b[38;5;241m.\u001b[39masarray(data, dtype\u001b[38;5;241m=\u001b[39m\u001b[38;5;28mobject\u001b[39m))\n\u001b[1;32m--> 733\u001b[0m flat \u001b[38;5;241m=\u001b[39m \u001b[38;5;129;01mnot\u001b[39;00m \u001b[38;5;28;43many\u001b[39;49m\u001b[43m(\u001b[49m\n\u001b[0;32m    734\u001b[0m \u001b[43m    \u001b[49m\u001b[38;5;28;43misinstance\u001b[39;49m\u001b[43m(\u001b[49m\u001b[43mv\u001b[49m\u001b[43m,\u001b[49m\u001b[43m \u001b[49m\u001b[43mIterable\u001b[49m\u001b[43m)\u001b[49m\u001b[43m \u001b[49m\u001b[38;5;129;43;01mand\u001b[39;49;00m\u001b[43m \u001b[49m\u001b[38;5;129;43;01mnot\u001b[39;49;00m\u001b[43m \u001b[49m\u001b[38;5;28;43misinstance\u001b[39;49m\u001b[43m(\u001b[49m\u001b[43mv\u001b[49m\u001b[43m,\u001b[49m\u001b[43m \u001b[49m\u001b[43m(\u001b[49m\u001b[38;5;28;43mstr\u001b[39;49m\u001b[43m,\u001b[49m\u001b[43m \u001b[49m\u001b[38;5;28;43mbytes\u001b[39;49m\u001b[43m)\u001b[49m\u001b[43m)\u001b[49m\n\u001b[0;32m    735\u001b[0m \u001b[43m    \u001b[49m\u001b[38;5;28;43;01mfor\u001b[39;49;00m\u001b[43m \u001b[49m\u001b[43mv\u001b[49m\u001b[43m \u001b[49m\u001b[38;5;129;43;01min\u001b[39;49;00m\u001b[43m \u001b[49m\u001b[43mvalues\u001b[49m\n\u001b[0;32m    736\u001b[0m \u001b[43m\u001b[49m\u001b[43m)\u001b[49m\n\u001b[0;32m    738\u001b[0m \u001b[38;5;28;01mif\u001b[39;00m empty:\n\u001b[0;32m    739\u001b[0m \n\u001b[0;32m    740\u001b[0m     \u001b[38;5;66;03m# Make an object with the structure of plot_data, but empty\u001b[39;00m\n\u001b[0;32m    741\u001b[0m     plot_data \u001b[38;5;241m=\u001b[39m pd\u001b[38;5;241m.\u001b[39mDataFrame()\n",
      "File \u001b[1;32m~\\miniconda3\\envs\\tf_env\\lib\\site-packages\\seaborn\\_base.py:734\u001b[0m, in \u001b[0;36m<genexpr>\u001b[1;34m(.0)\u001b[0m\n\u001b[0;32m    731\u001b[0m \u001b[38;5;28;01melse\u001b[39;00m:\n\u001b[0;32m    732\u001b[0m     values \u001b[38;5;241m=\u001b[39m np\u001b[38;5;241m.\u001b[39matleast_1d(np\u001b[38;5;241m.\u001b[39masarray(data, dtype\u001b[38;5;241m=\u001b[39m\u001b[38;5;28mobject\u001b[39m))\n\u001b[0;32m    733\u001b[0m flat \u001b[38;5;241m=\u001b[39m \u001b[38;5;129;01mnot\u001b[39;00m \u001b[38;5;28many\u001b[39m(\n\u001b[1;32m--> 734\u001b[0m     \u001b[38;5;28;43misinstance\u001b[39;49m\u001b[43m(\u001b[49m\u001b[43mv\u001b[49m\u001b[43m,\u001b[49m\u001b[43m \u001b[49m\u001b[43mIterable\u001b[49m\u001b[43m)\u001b[49m \u001b[38;5;129;01mand\u001b[39;00m \u001b[38;5;129;01mnot\u001b[39;00m \u001b[38;5;28misinstance\u001b[39m(v, (\u001b[38;5;28mstr\u001b[39m, \u001b[38;5;28mbytes\u001b[39m))\n\u001b[0;32m    735\u001b[0m     \u001b[38;5;28;01mfor\u001b[39;00m v \u001b[38;5;129;01min\u001b[39;00m values\n\u001b[0;32m    736\u001b[0m )\n\u001b[0;32m    738\u001b[0m \u001b[38;5;28;01mif\u001b[39;00m empty:\n\u001b[0;32m    739\u001b[0m \n\u001b[0;32m    740\u001b[0m     \u001b[38;5;66;03m# Make an object with the structure of plot_data, but empty\u001b[39;00m\n\u001b[0;32m    741\u001b[0m     plot_data \u001b[38;5;241m=\u001b[39m pd\u001b[38;5;241m.\u001b[39mDataFrame()\n",
      "\u001b[1;31mKeyboardInterrupt\u001b[0m: "
     ]
    },
    {
     "data": {
      "text/plain": [
       "<Figure size 1000x600 with 0 Axes>"
      ]
     },
     "metadata": {},
     "output_type": "display_data"
    }
   ],
   "source": [
    "plt.figure(figsize=(10, 6))\n",
    "\n",
    "# Histogram + KDE\n",
    "sns.histplot(genome_scores_df[\"relevance\"], bins=100, kde=True, color=\"skyblue\")\n",
    "plt.title(\"Distribution of Tag Relevance Scores\", fontsize=14)\n",
    "plt.xlabel(\"Relevance Score\")\n",
    "plt.ylabel(\"Frequency\")\n",
    "\n",
    "# Quantile threshold lines (For example: %80, %90, %95)\n",
    "for q in [0.80, 0.90, 0.95]:\n",
    "    thresh = genome_scores_df[\"relevance\"].quantile(q)\n",
    "    plt.axvline(thresh, color=\"red\", linestyle=\"--\", alpha=0.7)\n",
    "    plt.text(thresh + 0.005, plt.ylim()[1]*0.8, f\"{int(q*100)}% → {thresh:.2f}\", color=\"red\")\n",
    "\n",
    "plt.show()"
   ]
  },
  {
   "cell_type": "code",
   "execution_count": null,
   "id": "5041287d-7488-40d1-bcc7-6244f2757828",
   "metadata": {},
   "outputs": [],
   "source": [
    "plt.figure(figsize=(8,5))\n",
    "sns.ecdfplot(genome_scores_df[\"relevance\"], color=\"green\")\n",
    "plt.title(\"Cumulative Distribution of Relevance Scores\")\n",
    "plt.xlabel(\"Relevance\")\n",
    "plt.ylabel(\"Cumulative Probability\")\n",
    "\n",
    "for q in [0.80, 0.90, 0.95]:\n",
    "    thresh = genome_scores_df[\"relevance\"].quantile(q)\n",
    "    plt.axvline(thresh, color=\"red\", linestyle=\"--\", alpha=0.7)\n",
    "    plt.text(thresh+0.005, 0.05, f\"{int(q*100)}% → {thresh:.2f}\", color=\"red\")\n",
    "\n",
    "plt.show()"
   ]
  },
  {
   "cell_type": "code",
   "execution_count": 13,
   "id": "8318736e-2a10-41a4-b4ae-ea25166e402d",
   "metadata": {},
   "outputs": [
    {
     "name": "stdout",
     "output_type": "stream",
     "text": [
      "Selected 2982615 tag-movie pairs (above 0.2)\n"
     ]
    }
   ],
   "source": [
    "threshold = RELEVANCE_THRESHOLD\n",
    "filtered_df = genome_scores_df[genome_scores_df[\"relevance\"] >= threshold]\n",
    "print(f\"Selected {len(filtered_df)} tag-movie pairs (above {threshold})\")"
   ]
  },
  {
   "cell_type": "markdown",
   "id": "093d28aa-cf30-4a3c-a743-88e3b1841f1e",
   "metadata": {},
   "source": [
    "➡️ I know the film whose movieId is 1. It’s Toy Story, and it’s a cartoon. Now, I’m comparing the tags for the movies."
   ]
  },
  {
   "cell_type": "code",
   "execution_count": 20,
   "id": "bca8d441-154a-4ff3-8aaa-bb14d5eaeb79",
   "metadata": {},
   "outputs": [
    {
     "name": "stdout",
     "output_type": "stream",
     "text": [
      "          movieId  tagId  relevance\n",
      "17891530   224338    323    0.74950\n",
      "17891949   224338    742    0.65050\n",
      "17891659   224338    452    0.55075\n",
      "17891847   224338    640    0.54025\n",
      "17891499   224338    292    0.52475\n",
      "...           ...    ...        ...\n",
      "17891738   224338    531    0.20250\n",
      "17891301   224338     94    0.20200\n",
      "17892279   224338   1072    0.20200\n",
      "17891954   224338    747    0.20175\n",
      "17892242   224338   1035    0.20000\n",
      "\n",
      "[111 rows x 3 columns]\n"
     ]
    }
   ],
   "source": [
    "movie1_tags = filtered_df[filtered_df[\"movieId\"] == 1].sort_values(by=\"relevance\", ascending=False)\n",
    "print(movie1_tags)"
   ]
  },
  {
   "cell_type": "code",
   "execution_count": 21,
   "id": "19857207-37b8-4421-9c54-3535e3a0f275",
   "metadata": {},
   "outputs": [],
   "source": [
    "best_5_tag = [323, 742, 452, 640, 589]"
   ]
  },
  {
   "cell_type": "code",
   "execution_count": 22,
   "id": "82eec561-affc-41b2-8b39-58a08cfcba7e",
   "metadata": {},
   "outputs": [
    {
     "name": "stdout",
     "output_type": "stream",
     "text": [
      "     tagId    tag\n",
      "322    323  drama\n",
      "     tagId       tag\n",
      "741    742  original\n",
      "     tagId              tag\n",
      "451    452  good soundtrack\n",
      "     tagId          tag\n",
      "639    640  melancholic\n",
      "     tagId    tag\n",
      "291    292  death\n"
     ]
    }
   ],
   "source": [
    "for tag_id in best_5_tag:\n",
    "    print(genome_tags_df[genome_tags_df[\"tagId\"]  == tag_id])"
   ]
  },
  {
   "cell_type": "code",
   "execution_count": 24,
   "id": "3f1b1b2c-fba5-42bd-a4cd-371efec81998",
   "metadata": {},
   "outputs": [],
   "source": [
    "worst_5_tag = [1035, 747, 1072, 94, 531]"
   ]
  },
  {
   "cell_type": "code",
   "execution_count": 25,
   "id": "bdeb1212-ab31-416c-a48b-f0929228bbef",
   "metadata": {},
   "outputs": [
    {
     "name": "stdout",
     "output_type": "stream",
     "text": [
      "      tagId       tag\n",
      "1034   1035  touching\n",
      "     tagId                   tag\n",
      "746    747  oscar (best actress)\n",
      "      tagId        tag\n",
      "1071   1072  very good\n",
      "    tagId                 tag\n",
      "93     94  awesome soundtrack\n",
      "     tagId       tag\n",
      "530    531  idealism\n"
     ]
    }
   ],
   "source": [
    "for tag_id in worst_5_tag:\n",
    "    print(genome_tags_df[genome_tags_df[\"tagId\"]  == tag_id])"
   ]
  },
  {
   "cell_type": "markdown",
   "id": "0ef59296-8dfd-4ef0-a067-177352bab471",
   "metadata": {},
   "source": [
    "## Test Results: *Toy Story* (movieId = 1) 🧸\n",
    "\n",
    "We applied a **relevance threshold of 0.2** to filter tags.  \n",
    "Below are the **top 5 (highest relevance)** and **bottom 5 (lowest relevance above threshold)** tags for *Toy Story*.\n",
    "\n",
    "---\n",
    "\n",
    " **Best 5 Tags (Highest Relevance)**\n",
    "\n",
    "| TagId | Tag                 | Relevance |\n",
    "|-------|--------------------|-----------|\n",
    "| 1036  | toys               | 0.99950   |\n",
    "| 244   | computer animation | 0.99875   |\n",
    "| 786   | pixar animation    | 0.99325   |\n",
    "| 64    | animation          | 0.98625   |\n",
    "| 589   | kids and family    | 0.98525   |\n",
    "\n",
    "**Analysis:**  \n",
    "- These tags are **highly representative** of the movie content.  \n",
    "- They capture the animation style, producer (*Pixar*), and target audience (children and family).  \n",
    "- They are suitable for **content-based recommendation** systems.\n",
    "\n",
    "---\n",
    "\n",
    " **Worst 5 Tags (Lowest Relevance above threshold))**\n",
    "\n",
    "| TagId | Tag                                      | Relevance |\n",
    "|-------|-----------------------------------------|-----------|\n",
    "| 327   | dreamworks                               | 0.20000   |\n",
    "| 880   | saturn award (best science fiction film)| 0.20025   |\n",
    "| 154   | books                                    | 0.20825   |\n",
    "| 212   | cinematography                           | 0.20900   |\n",
    "| 642   | memory                                   | 0.20925   |\n",
    "\n",
    "**Analysis:**  \n",
    "- These tags are **weakly related** to the movie.  \n",
    "- Some are **irrelevant or misleading** (e.g., DreamWorks studio, science fiction awards).  \n",
    "- Using these in recommendations may introduce **noise**; consider **filtering or down-weighting** them.\n",
    "\n",
    "---\n",
    "\n",
    " **Conclusion)**\n",
    "\n",
    "1. **Threshold = 0.2** is a reasonable choice to separate **strongly related tags** from weak ones.  \n",
    "2. Best tags accurately reflect the movie’s content and audience.  \n",
    "3. Weak tags near the threshold should be treated cautiously.  \n",
    "4. **The top 5 tags (`toys`, `computer animation`, `pixar animation`, `animation`, `kids and family`) are reliable and can be safely used for recommendation purposes.**  \n",
    "5. The filtered best tags are ready to be used for **content-based movie recommendations**.\n"
   ]
  },
  {
   "cell_type": "markdown",
   "id": "6aa6070e-83a8-4323-a6d4-22f366f1feb4",
   "metadata": {},
   "source": [
    "## User-Based Tag and Genre Analysis"
   ]
  },
  {
   "cell_type": "code",
   "execution_count": 19,
   "id": "e07f27b7-bcb8-4876-b9ab-5adc6dd3f707",
   "metadata": {},
   "outputs": [],
   "source": [
    "class User:\n",
    "    def __init__(self, userId: int):\n",
    "        self.userId = userId\n",
    "        self.ratings = {}       # movieId: rating (1=like, 0=dislike)\n",
    "        self.watchedList = []   # movieId list\n",
    "    \n",
    "    def add_rating(self, movieId, rating):\n",
    "        self.ratings[movieId] = rating\n",
    "        if movieId not in self.watchedList:\n",
    "            self.watchedList.append(movieId)\n",
    "    \n",
    "    def add_watched(self, movieId):\n",
    "        if movieId not in self.watchedList:\n",
    "            self.watchedList.append(movieId)\n"
   ]
  },
  {
   "cell_type": "markdown",
   "id": "3ed52243-69ce-4924-a8ae-75d7f1a4fff3",
   "metadata": {},
   "source": [
    "##### .5"
   ]
  },
  {
   "cell_type": "code",
   "execution_count": null,
   "id": "0e21be73-0b01-41cc-b080-b713147dc1ba",
   "metadata": {},
   "outputs": [],
   "source": []
  },
  {
   "cell_type": "code",
   "execution_count": null,
   "id": "b8d72cec-0ba9-4639-a3c7-3fda6987dedb",
   "metadata": {},
   "outputs": [],
   "source": []
  }
 ],
 "metadata": {
  "kernelspec": {
   "display_name": "Python (tf_env)",
   "language": "python",
   "name": "tf_env"
  },
  "language_info": {
   "codemirror_mode": {
    "name": "ipython",
    "version": 3
   },
   "file_extension": ".py",
   "mimetype": "text/x-python",
   "name": "python",
   "nbconvert_exporter": "python",
   "pygments_lexer": "ipython3",
   "version": "3.10.16"
  }
 },
 "nbformat": 4,
 "nbformat_minor": 5
}
