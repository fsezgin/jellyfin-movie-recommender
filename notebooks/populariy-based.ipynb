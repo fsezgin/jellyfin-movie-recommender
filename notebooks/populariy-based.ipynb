{
 "cells": [
  {
   "cell_type": "markdown",
   "id": "5f21f172-f46a-4f88-afed-73cd8b03955d",
   "metadata": {
    "jp-MarkdownHeadingCollapsed": true
   },
   "source": [
    "## Notebook Overview"
   ]
  },
  {
   "cell_type": "markdown",
   "id": "1da3797b-07cb-43b5-ba63-6e887a691deb",
   "metadata": {},
   "source": [
    "texttexttext"
   ]
  },
  {
   "cell_type": "markdown",
   "id": "9123ad64-12a6-40ae-be71-e56230efc715",
   "metadata": {},
   "source": [
    "## Imports & Configurations"
   ]
  },
  {
   "cell_type": "code",
   "execution_count": 1,
   "id": "dc371ce1-c606-43b1-ac16-968ff2648b9b",
   "metadata": {},
   "outputs": [],
   "source": [
    "import pandas as pd"
   ]
  },
  {
   "cell_type": "code",
   "execution_count": 10,
   "id": "07cb5305-b645-4663-8f48-16bc4ad23eb8",
   "metadata": {},
   "outputs": [],
   "source": [
    "TITLE_RATINGS_PATH = r\".\\data\\title.ratings.tsv\"\n",
    "TITLE_BASICS_PATH = r\".\\data\\title.basics.tsv\"\n",
    "\n",
    "AVG_RATING = 3\n",
    "RATING_COUNT = 50000"
   ]
  },
  {
   "cell_type": "markdown",
   "id": "6dffc89c-6eb0-40db-af4b-c97d9aa935f5",
   "metadata": {},
   "source": [
    "## Data Analysis & Feature Engineering"
   ]
  },
  {
   "cell_type": "code",
   "execution_count": null,
   "id": "52800d7a-030a-4e13-adce-9b38301b8ad4",
   "metadata": {},
   "outputs": [],
   "source": [
    "title_basics_df = pd.read_csv(TITLE_BASICS_PATH, sep=\"\\t\", low_memory=False, na_values=\"\\\\N\", on_bad_lines='skip')\n",
    "title_ratings_df = pd.read_csv(TITLE_RATINGS_PATH, sep=\"\\t\", low_memory=False, na_values=\"\\\\N\", on_bad_lines='skip')"
   ]
  },
  {
   "cell_type": "code",
   "execution_count": 13,
   "id": "2c88f315-c23b-4fae-ad91-19b1e0ff3e58",
   "metadata": {},
   "outputs": [
    {
     "name": "stdout",
     "output_type": "stream",
     "text": [
      "First 5 row:\n",
      "\n",
      "      tconst titleType            primaryTitle           originalTitle  \\\n",
      "0  tt0000001     short              Carmencita              Carmencita   \n",
      "1  tt0000002     short  Le clown et ses chiens  Le clown et ses chiens   \n",
      "2  tt0000003     short            Poor Pierrot          Pauvre Pierrot   \n",
      "3  tt0000004     short             Un bon bock             Un bon bock   \n",
      "4  tt0000005     short        Blacksmith Scene        Blacksmith Scene   \n",
      "\n",
      "   isAdult  startYear  endYear runtimeMinutes                    genres  \n",
      "0        0     1894.0      NaN              1         Documentary,Short  \n",
      "1        0     1892.0      NaN              5           Animation,Short  \n",
      "2        0     1892.0      NaN              5  Animation,Comedy,Romance  \n",
      "3        0     1892.0      NaN             12           Animation,Short  \n",
      "4        0     1893.0      NaN              1                     Short  \n",
      "Shape:\n",
      "\n",
      "(11957318, 9)\n",
      "Information:\n",
      "\n",
      "<class 'pandas.core.frame.DataFrame'>\n",
      "RangeIndex: 11957318 entries, 0 to 11957317\n",
      "Data columns (total 9 columns):\n",
      " #   Column          Dtype  \n",
      "---  ------          -----  \n",
      " 0   tconst          object \n",
      " 1   titleType       object \n",
      " 2   primaryTitle    object \n",
      " 3   originalTitle   object \n",
      " 4   isAdult         int64  \n",
      " 5   startYear       float64\n",
      " 6   endYear         float64\n",
      " 7   runtimeMinutes  object \n",
      " 8   genres          object \n",
      "dtypes: float64(2), int64(1), object(6)\n",
      "memory usage: 821.0+ MB\n",
      "None\n",
      "Description:\n",
      "\n",
      "            isAdult     startYear        endYear\n",
      "count  1.195732e+07  1.051606e+07  148003.000000\n",
      "mean   1.336464e-01  2.006591e+03    2007.925907\n",
      "std    1.414391e+01  2.012074e+01      20.656027\n",
      "min    0.000000e+00  1.874000e+03       3.000000\n",
      "25%    0.000000e+00  2.002000e+03    2001.000000\n",
      "50%    0.000000e+00  2.014000e+03    2014.000000\n",
      "75%    0.000000e+00  2.020000e+03    2020.000000\n",
      "max    2.025000e+03  2.032000e+03    2032.000000\n",
      "First 5 row:\n",
      "\n",
      "      tconst  averageRating  numVotes\n",
      "0  tt0000001            5.7      2180\n",
      "1  tt0000002            5.5       301\n",
      "2  tt0000003            6.4      2251\n",
      "3  tt0000004            5.2       194\n",
      "4  tt0000005            6.2      2991\n",
      "Shape:\n",
      "\n",
      "(1623466, 3)\n",
      "Information:\n",
      "\n",
      "<class 'pandas.core.frame.DataFrame'>\n",
      "RangeIndex: 1623466 entries, 0 to 1623465\n",
      "Data columns (total 3 columns):\n",
      " #   Column         Non-Null Count    Dtype  \n",
      "---  ------         --------------    -----  \n",
      " 0   tconst         1623466 non-null  object \n",
      " 1   averageRating  1623466 non-null  float64\n",
      " 2   numVotes       1623466 non-null  int64  \n",
      "dtypes: float64(1), int64(1), object(1)\n",
      "memory usage: 37.2+ MB\n",
      "None\n",
      "Description:\n",
      "\n",
      "       averageRating      numVotes\n",
      "count   1.623466e+06  1.623466e+06\n",
      "mean    6.937292e+00  1.018605e+03\n",
      "std     1.397612e+00  1.788738e+04\n",
      "min     1.000000e+00  5.000000e+00\n",
      "25%     6.200000e+00  1.200000e+01\n",
      "50%     7.100000e+00  2.600000e+01\n",
      "75%     7.900000e+00  9.900000e+01\n",
      "max     1.000000e+01  3.106911e+06\n"
     ]
    }
   ],
   "source": [
    "df_list = [title_basics_df, title_ratings_df]\n",
    "\n",
    "for df in df_list:\n",
    "    print(\"First 5 row:\\n\")\n",
    "    print(df.head())\n",
    "    print(\"Shape:\\n\")\n",
    "    print(df.shape)\n",
    "    print(\"Information:\\n\")\n",
    "    print(df.info())\n",
    "    print(\"Description:\\n\")\n",
    "    print(df.describe())"
   ]
  },
  {
   "cell_type": "code",
   "execution_count": 19,
   "id": "9430ea1e-d2ac-4d3a-94b9-d9c17e576040",
   "metadata": {},
   "outputs": [
    {
     "data": {
      "text/plain": [
       "titleType\n",
       "tvEpisode       9207148\n",
       "short           1087439\n",
       "movie            727974\n",
       "video            317000\n",
       "tvSeries         288708\n",
       "tvMovie          152585\n",
       "tvMiniSeries      65476\n",
       "tvSpecial         54813\n",
       "videoGame         45396\n",
       "tvShort           10778\n",
       "tvPilot               1\n",
       "Name: count, dtype: int64"
      ]
     },
     "execution_count": 19,
     "metadata": {},
     "output_type": "execute_result"
    }
   ],
   "source": [
    "title_basics_df[\"titleType\"].value_counts()"
   ]
  },
  {
   "cell_type": "markdown",
   "id": "92410fed-8613-4f09-b63b-ffbb9e609020",
   "metadata": {},
   "source": [
    "In this notebook, I just make an effort on movies. Therefore, I must make filtered the dataset."
   ]
  },
  {
   "cell_type": "code",
   "execution_count": 22,
   "id": "3c8dc569-d3c4-4ad7-9f05-3cf7127dd52a",
   "metadata": {},
   "outputs": [
    {
     "data": {
      "text/plain": [
       "(880559, 9)"
      ]
     },
     "execution_count": 22,
     "metadata": {},
     "output_type": "execute_result"
    }
   ],
   "source": [
    "movie_ratings_df = title_basics_df[(title_basics_df[\"titleType\"] == \"movie\") | (title_basics_df[\"titleType\"] == \"tvMovie\")]\n",
    "movie_ratings_df.shape # It must be movie + tvMovie -> (727974 + 152585)"
   ]
  },
  {
   "cell_type": "code",
   "execution_count": 28,
   "id": "09f5d136-dcef-4e65-baab-ae22c9eed617",
   "metadata": {},
   "outputs": [],
   "source": [
    "movies_with_ratings = movie_ratings_df.merge(\n",
    "    title_ratings_df[['tconst', 'averageRating', 'numVotes']],\n",
    "    on='tconst',\n",
    "    how='left'\n",
    ")"
   ]
  },
  {
   "cell_type": "code",
   "execution_count": 29,
   "id": "bef5047c-db3d-4e7c-b3a0-5918eb866d91",
   "metadata": {},
   "outputs": [
    {
     "data": {
      "text/html": [
       "<div>\n",
       "<style scoped>\n",
       "    .dataframe tbody tr th:only-of-type {\n",
       "        vertical-align: middle;\n",
       "    }\n",
       "\n",
       "    .dataframe tbody tr th {\n",
       "        vertical-align: top;\n",
       "    }\n",
       "\n",
       "    .dataframe thead th {\n",
       "        text-align: right;\n",
       "    }\n",
       "</style>\n",
       "<table border=\"1\" class=\"dataframe\">\n",
       "  <thead>\n",
       "    <tr style=\"text-align: right;\">\n",
       "      <th></th>\n",
       "      <th>tconst</th>\n",
       "      <th>titleType</th>\n",
       "      <th>primaryTitle</th>\n",
       "      <th>originalTitle</th>\n",
       "      <th>isAdult</th>\n",
       "      <th>startYear</th>\n",
       "      <th>endYear</th>\n",
       "      <th>runtimeMinutes</th>\n",
       "      <th>genres</th>\n",
       "      <th>averageRating</th>\n",
       "      <th>numVotes</th>\n",
       "    </tr>\n",
       "  </thead>\n",
       "  <tbody>\n",
       "    <tr>\n",
       "      <th>0</th>\n",
       "      <td>tt0000009</td>\n",
       "      <td>movie</td>\n",
       "      <td>Miss Jerry</td>\n",
       "      <td>Miss Jerry</td>\n",
       "      <td>0</td>\n",
       "      <td>1894.0</td>\n",
       "      <td>NaN</td>\n",
       "      <td>45</td>\n",
       "      <td>Romance</td>\n",
       "      <td>5.3</td>\n",
       "      <td>228.0</td>\n",
       "    </tr>\n",
       "    <tr>\n",
       "      <th>1</th>\n",
       "      <td>tt0000147</td>\n",
       "      <td>movie</td>\n",
       "      <td>The Corbett-Fitzsimmons Fight</td>\n",
       "      <td>The Corbett-Fitzsimmons Fight</td>\n",
       "      <td>0</td>\n",
       "      <td>1897.0</td>\n",
       "      <td>NaN</td>\n",
       "      <td>100</td>\n",
       "      <td>Documentary,News,Sport</td>\n",
       "      <td>5.3</td>\n",
       "      <td>572.0</td>\n",
       "    </tr>\n",
       "    <tr>\n",
       "      <th>2</th>\n",
       "      <td>tt0000502</td>\n",
       "      <td>movie</td>\n",
       "      <td>Bohemios</td>\n",
       "      <td>Bohemios</td>\n",
       "      <td>0</td>\n",
       "      <td>1905.0</td>\n",
       "      <td>NaN</td>\n",
       "      <td>100</td>\n",
       "      <td>NaN</td>\n",
       "      <td>3.7</td>\n",
       "      <td>23.0</td>\n",
       "    </tr>\n",
       "    <tr>\n",
       "      <th>3</th>\n",
       "      <td>tt0000574</td>\n",
       "      <td>movie</td>\n",
       "      <td>The Story of the Kelly Gang</td>\n",
       "      <td>The Story of the Kelly Gang</td>\n",
       "      <td>0</td>\n",
       "      <td>1906.0</td>\n",
       "      <td>NaN</td>\n",
       "      <td>70</td>\n",
       "      <td>Action,Adventure,Biography</td>\n",
       "      <td>6.0</td>\n",
       "      <td>1028.0</td>\n",
       "    </tr>\n",
       "    <tr>\n",
       "      <th>4</th>\n",
       "      <td>tt0000591</td>\n",
       "      <td>movie</td>\n",
       "      <td>The Prodigal Son</td>\n",
       "      <td>L'enfant prodigue</td>\n",
       "      <td>0</td>\n",
       "      <td>1907.0</td>\n",
       "      <td>NaN</td>\n",
       "      <td>90</td>\n",
       "      <td>Drama</td>\n",
       "      <td>5.3</td>\n",
       "      <td>34.0</td>\n",
       "    </tr>\n",
       "  </tbody>\n",
       "</table>\n",
       "</div>"
      ],
      "text/plain": [
       "      tconst titleType                   primaryTitle  \\\n",
       "0  tt0000009     movie                     Miss Jerry   \n",
       "1  tt0000147     movie  The Corbett-Fitzsimmons Fight   \n",
       "2  tt0000502     movie                       Bohemios   \n",
       "3  tt0000574     movie    The Story of the Kelly Gang   \n",
       "4  tt0000591     movie               The Prodigal Son   \n",
       "\n",
       "                   originalTitle  isAdult  startYear  endYear runtimeMinutes  \\\n",
       "0                     Miss Jerry        0     1894.0      NaN             45   \n",
       "1  The Corbett-Fitzsimmons Fight        0     1897.0      NaN            100   \n",
       "2                       Bohemios        0     1905.0      NaN            100   \n",
       "3    The Story of the Kelly Gang        0     1906.0      NaN             70   \n",
       "4              L'enfant prodigue        0     1907.0      NaN             90   \n",
       "\n",
       "                       genres  averageRating  numVotes  \n",
       "0                     Romance            5.3     228.0  \n",
       "1      Documentary,News,Sport            5.3     572.0  \n",
       "2                         NaN            3.7      23.0  \n",
       "3  Action,Adventure,Biography            6.0    1028.0  \n",
       "4                       Drama            5.3      34.0  "
      ]
     },
     "execution_count": 29,
     "metadata": {},
     "output_type": "execute_result"
    }
   ],
   "source": [
    "movies_with_ratings.head()"
   ]
  },
  {
   "cell_type": "code",
   "execution_count": 30,
   "id": "224fea18-2c5f-4a2f-b362-52372e9c3212",
   "metadata": {},
   "outputs": [
    {
     "name": "stdout",
     "output_type": "stream",
     "text": [
      "<class 'pandas.core.frame.DataFrame'>\n",
      "RangeIndex: 880559 entries, 0 to 880558\n",
      "Data columns (total 11 columns):\n",
      " #   Column          Non-Null Count   Dtype  \n",
      "---  ------          --------------   -----  \n",
      " 0   tconst          880559 non-null  object \n",
      " 1   titleType       880559 non-null  object \n",
      " 2   primaryTitle    880556 non-null  object \n",
      " 3   originalTitle   880556 non-null  object \n",
      " 4   isAdult         880559 non-null  int64  \n",
      " 5   startYear       768689 non-null  float64\n",
      " 6   endYear         0 non-null       float64\n",
      " 7   runtimeMinutes  564485 non-null  object \n",
      " 8   genres          789505 non-null  object \n",
      " 9   averageRating   392873 non-null  float64\n",
      " 10  numVotes        392873 non-null  float64\n",
      "dtypes: float64(4), int64(1), object(6)\n",
      "memory usage: 73.9+ MB\n"
     ]
    }
   ],
   "source": [
    "movies_with_ratings.info()"
   ]
  },
  {
   "cell_type": "code",
   "execution_count": 26,
   "id": "aae62a86-6de0-439c-9d84-711e80c2114d",
   "metadata": {},
   "outputs": [],
   "source": [
    "def calculate_weighted_rating(df, min_votes=RATING_COUNT):\n",
    "    \"\"\"\n",
    "    The function calculate the IMDb Weighted Rating (WR)\n",
    "    \n",
    "    Args:\n",
    "        df (pd.DataFrame): movie_ratings_df, it must include at least the columns:\n",
    "            ['tconst', 'averageRating', 'numVotes']\n",
    "        min_votes (int): Miniumum votes number-Threshold (m)\n",
    "        \n",
    "    Returns:\n",
    "        pd.DataFrame: adding the 'weighted_rating' columns to df\n",
    "    \"\"\"\n",
    "    df = df.copy()\n",
    "    \n",
    "    # Global ortalama rating\n",
    "    C = df['averageRating'].mean()\n",
    "    m = min_votes\n",
    "    \n",
    "    # Weighted Rating hesapla\n",
    "    df['weighted_rating'] = (\n",
    "        (df['numVotes'] / (df['numVotes'] + m)) * df['averageRating'] +\n",
    "        (m / (df['numVotes'] + m)) * C\n",
    "    )\n",
    "    \n",
    "    return df"
   ]
  },
  {
   "cell_type": "code",
   "execution_count": 27,
   "id": "098b3f09-e657-4e5a-8378-fcb34c0d1b68",
   "metadata": {},
   "outputs": [
    {
     "ename": "KeyError",
     "evalue": "'averageRating'",
     "output_type": "error",
     "traceback": [
      "\u001b[1;31m---------------------------------------------------------------------------\u001b[0m",
      "\u001b[1;31mKeyError\u001b[0m                                  Traceback (most recent call last)",
      "File \u001b[1;32m~\\miniconda3\\envs\\tf_env\\lib\\site-packages\\pandas\\core\\indexes\\base.py:3653\u001b[0m, in \u001b[0;36mIndex.get_loc\u001b[1;34m(self, key)\u001b[0m\n\u001b[0;32m   3652\u001b[0m \u001b[38;5;28;01mtry\u001b[39;00m:\n\u001b[1;32m-> 3653\u001b[0m     \u001b[38;5;28;01mreturn\u001b[39;00m \u001b[38;5;28;43mself\u001b[39;49m\u001b[38;5;241;43m.\u001b[39;49m\u001b[43m_engine\u001b[49m\u001b[38;5;241;43m.\u001b[39;49m\u001b[43mget_loc\u001b[49m\u001b[43m(\u001b[49m\u001b[43mcasted_key\u001b[49m\u001b[43m)\u001b[49m\n\u001b[0;32m   3654\u001b[0m \u001b[38;5;28;01mexcept\u001b[39;00m \u001b[38;5;167;01mKeyError\u001b[39;00m \u001b[38;5;28;01mas\u001b[39;00m err:\n",
      "File \u001b[1;32m~\\miniconda3\\envs\\tf_env\\lib\\site-packages\\pandas\\_libs\\index.pyx:147\u001b[0m, in \u001b[0;36mpandas._libs.index.IndexEngine.get_loc\u001b[1;34m()\u001b[0m\n",
      "File \u001b[1;32m~\\miniconda3\\envs\\tf_env\\lib\\site-packages\\pandas\\_libs\\index.pyx:176\u001b[0m, in \u001b[0;36mpandas._libs.index.IndexEngine.get_loc\u001b[1;34m()\u001b[0m\n",
      "File \u001b[1;32mpandas\\_libs\\hashtable_class_helper.pxi:7080\u001b[0m, in \u001b[0;36mpandas._libs.hashtable.PyObjectHashTable.get_item\u001b[1;34m()\u001b[0m\n",
      "File \u001b[1;32mpandas\\_libs\\hashtable_class_helper.pxi:7088\u001b[0m, in \u001b[0;36mpandas._libs.hashtable.PyObjectHashTable.get_item\u001b[1;34m()\u001b[0m\n",
      "\u001b[1;31mKeyError\u001b[0m: 'averageRating'",
      "\nThe above exception was the direct cause of the following exception:\n",
      "\u001b[1;31mKeyError\u001b[0m                                  Traceback (most recent call last)",
      "Cell \u001b[1;32mIn[27], line 1\u001b[0m\n\u001b[1;32m----> 1\u001b[0m movies_with_wr \u001b[38;5;241m=\u001b[39m \u001b[43mcalculate_weighted_rating\u001b[49m\u001b[43m(\u001b[49m\u001b[43mmovie_ratings_df\u001b[49m\u001b[43m)\u001b[49m\n",
      "Cell \u001b[1;32mIn[26], line 16\u001b[0m, in \u001b[0;36mcalculate_weighted_rating\u001b[1;34m(df, min_votes)\u001b[0m\n\u001b[0;32m     13\u001b[0m df \u001b[38;5;241m=\u001b[39m df\u001b[38;5;241m.\u001b[39mcopy()\n\u001b[0;32m     15\u001b[0m \u001b[38;5;66;03m# Global ortalama rating\u001b[39;00m\n\u001b[1;32m---> 16\u001b[0m C \u001b[38;5;241m=\u001b[39m \u001b[43mdf\u001b[49m\u001b[43m[\u001b[49m\u001b[38;5;124;43m'\u001b[39;49m\u001b[38;5;124;43maverageRating\u001b[39;49m\u001b[38;5;124;43m'\u001b[39;49m\u001b[43m]\u001b[49m\u001b[38;5;241m.\u001b[39mmean()\n\u001b[0;32m     17\u001b[0m m \u001b[38;5;241m=\u001b[39m min_votes\n\u001b[0;32m     19\u001b[0m \u001b[38;5;66;03m# Weighted Rating hesapla\u001b[39;00m\n",
      "File \u001b[1;32m~\\miniconda3\\envs\\tf_env\\lib\\site-packages\\pandas\\core\\frame.py:3761\u001b[0m, in \u001b[0;36mDataFrame.__getitem__\u001b[1;34m(self, key)\u001b[0m\n\u001b[0;32m   3759\u001b[0m \u001b[38;5;28;01mif\u001b[39;00m \u001b[38;5;28mself\u001b[39m\u001b[38;5;241m.\u001b[39mcolumns\u001b[38;5;241m.\u001b[39mnlevels \u001b[38;5;241m>\u001b[39m \u001b[38;5;241m1\u001b[39m:\n\u001b[0;32m   3760\u001b[0m     \u001b[38;5;28;01mreturn\u001b[39;00m \u001b[38;5;28mself\u001b[39m\u001b[38;5;241m.\u001b[39m_getitem_multilevel(key)\n\u001b[1;32m-> 3761\u001b[0m indexer \u001b[38;5;241m=\u001b[39m \u001b[38;5;28;43mself\u001b[39;49m\u001b[38;5;241;43m.\u001b[39;49m\u001b[43mcolumns\u001b[49m\u001b[38;5;241;43m.\u001b[39;49m\u001b[43mget_loc\u001b[49m\u001b[43m(\u001b[49m\u001b[43mkey\u001b[49m\u001b[43m)\u001b[49m\n\u001b[0;32m   3762\u001b[0m \u001b[38;5;28;01mif\u001b[39;00m is_integer(indexer):\n\u001b[0;32m   3763\u001b[0m     indexer \u001b[38;5;241m=\u001b[39m [indexer]\n",
      "File \u001b[1;32m~\\miniconda3\\envs\\tf_env\\lib\\site-packages\\pandas\\core\\indexes\\base.py:3655\u001b[0m, in \u001b[0;36mIndex.get_loc\u001b[1;34m(self, key)\u001b[0m\n\u001b[0;32m   3653\u001b[0m     \u001b[38;5;28;01mreturn\u001b[39;00m \u001b[38;5;28mself\u001b[39m\u001b[38;5;241m.\u001b[39m_engine\u001b[38;5;241m.\u001b[39mget_loc(casted_key)\n\u001b[0;32m   3654\u001b[0m \u001b[38;5;28;01mexcept\u001b[39;00m \u001b[38;5;167;01mKeyError\u001b[39;00m \u001b[38;5;28;01mas\u001b[39;00m err:\n\u001b[1;32m-> 3655\u001b[0m     \u001b[38;5;28;01mraise\u001b[39;00m \u001b[38;5;167;01mKeyError\u001b[39;00m(key) \u001b[38;5;28;01mfrom\u001b[39;00m\u001b[38;5;250m \u001b[39m\u001b[38;5;21;01merr\u001b[39;00m\n\u001b[0;32m   3656\u001b[0m \u001b[38;5;28;01mexcept\u001b[39;00m \u001b[38;5;167;01mTypeError\u001b[39;00m:\n\u001b[0;32m   3657\u001b[0m     \u001b[38;5;66;03m# If we have a listlike key, _check_indexing_error will raise\u001b[39;00m\n\u001b[0;32m   3658\u001b[0m     \u001b[38;5;66;03m#  InvalidIndexError. Otherwise we fall through and re-raise\u001b[39;00m\n\u001b[0;32m   3659\u001b[0m     \u001b[38;5;66;03m#  the TypeError.\u001b[39;00m\n\u001b[0;32m   3660\u001b[0m     \u001b[38;5;28mself\u001b[39m\u001b[38;5;241m.\u001b[39m_check_indexing_error(key)\n",
      "\u001b[1;31mKeyError\u001b[0m: 'averageRating'"
     ]
    }
   ],
   "source": [
    "movies_with_wr = calculate_weighted_rating(movie_ratings_df)"
   ]
  },
  {
   "cell_type": "code",
   "execution_count": null,
   "id": "2e1aaf99-2028-42a7-957f-40bc9a9f626c",
   "metadata": {},
   "outputs": [],
   "source": []
  }
 ],
 "metadata": {
  "kernelspec": {
   "display_name": "Python (tf_env)",
   "language": "python",
   "name": "tf_env"
  },
  "language_info": {
   "codemirror_mode": {
    "name": "ipython",
    "version": 3
   },
   "file_extension": ".py",
   "mimetype": "text/x-python",
   "name": "python",
   "nbconvert_exporter": "python",
   "pygments_lexer": "ipython3",
   "version": "3.10.16"
  }
 },
 "nbformat": 4,
 "nbformat_minor": 5
}
