{
 "cells": [
  {
   "cell_type": "markdown",
   "id": "338a7c1b-8299-4c3b-a7c2-249411b8c156",
   "metadata": {},
   "source": [
    "## Imports & Configurations"
   ]
  },
  {
   "cell_type": "code",
   "execution_count": 109,
   "id": "e8dd28df-7251-45f1-a4df-8a36027b32b6",
   "metadata": {},
   "outputs": [],
   "source": [
    "from selenium import webdriver\n",
    "from selenium.webdriver.common.by import By\n",
    "from selenium.webdriver.chrome.service import Service\n",
    "from selenium.webdriver.chrome.options import Options\n",
    "from selenium.webdriver.support.ui import WebDriverWait\n",
    "from selenium.webdriver.support import expected_conditions as EC\n",
    "from webdriver_manager.chrome import ChromeDriverManager\n",
    "import pandas as pd\n",
    "import time"
   ]
  },
  {
   "cell_type": "code",
   "execution_count": 110,
   "id": "9074766b-63bd-45b8-b1a3-9167ee2d7032",
   "metadata": {},
   "outputs": [],
   "source": [
    "MOVIES_PATH = r\"C:\\Users\\lunaf\\Desktop\\Projects\\jellyfin-movie-recommender\\data\\raw\\movies.csv\"\n",
    "RATINGS_PATH = r\"C:\\Users\\lunaf\\Desktop\\Projects\\jellyfin-movie-recommender\\data\\raw\\ratings.csv\"\n",
    "LINKS_PATH = r\"C:\\Users\\lunaf\\Desktop\\Projects\\jellyfin-movie-recommender\\data\\raw\\links.csv\"\n",
    "AVG_RATING = 3\n",
    "RATING_COUNT = 2000\n",
    "\n",
    "options = Options()\n",
    "#options.add_argument(\"--headless\")\n",
    "\n",
    "driver = webdriver.Chrome(service=Service(ChromeDriverManager().install()), options=options)\n",
    "wait = WebDriverWait(driver, 10)"
   ]
  },
  {
   "cell_type": "markdown",
   "id": "15132125-7022-43a6-9182-e1acba3d5f84",
   "metadata": {},
   "source": [
    "## Data Analysis and Feature Engineering"
   ]
  },
  {
   "cell_type": "code",
   "execution_count": 111,
   "id": "1976ecde-c5f9-4f6f-9f53-e96618a9f690",
   "metadata": {},
   "outputs": [],
   "source": [
    "movies_df = pd.read_csv(MOVIES_PATH)\n",
    "ratings_df = pd.read_csv(RATINGS_PATH)\n",
    "links_df = pd.read_csv(LINKS_PATH)"
   ]
  },
  {
   "cell_type": "code",
   "execution_count": 112,
   "id": "02640e29-bd81-4328-bfdc-652f4069ef13",
   "metadata": {},
   "outputs": [
    {
     "data": {
      "text/html": [
       "<div>\n",
       "<style scoped>\n",
       "    .dataframe tbody tr th:only-of-type {\n",
       "        vertical-align: middle;\n",
       "    }\n",
       "\n",
       "    .dataframe tbody tr th {\n",
       "        vertical-align: top;\n",
       "    }\n",
       "\n",
       "    .dataframe thead th {\n",
       "        text-align: right;\n",
       "    }\n",
       "</style>\n",
       "<table border=\"1\" class=\"dataframe\">\n",
       "  <thead>\n",
       "    <tr style=\"text-align: right;\">\n",
       "      <th></th>\n",
       "      <th>movieId</th>\n",
       "      <th>title</th>\n",
       "      <th>genres</th>\n",
       "    </tr>\n",
       "  </thead>\n",
       "  <tbody>\n",
       "    <tr>\n",
       "      <th>0</th>\n",
       "      <td>1</td>\n",
       "      <td>Toy Story (1995)</td>\n",
       "      <td>Adventure|Animation|Children|Comedy|Fantasy</td>\n",
       "    </tr>\n",
       "    <tr>\n",
       "      <th>1</th>\n",
       "      <td>2</td>\n",
       "      <td>Jumanji (1995)</td>\n",
       "      <td>Adventure|Children|Fantasy</td>\n",
       "    </tr>\n",
       "    <tr>\n",
       "      <th>2</th>\n",
       "      <td>3</td>\n",
       "      <td>Grumpier Old Men (1995)</td>\n",
       "      <td>Comedy|Romance</td>\n",
       "    </tr>\n",
       "    <tr>\n",
       "      <th>3</th>\n",
       "      <td>4</td>\n",
       "      <td>Waiting to Exhale (1995)</td>\n",
       "      <td>Comedy|Drama|Romance</td>\n",
       "    </tr>\n",
       "    <tr>\n",
       "      <th>4</th>\n",
       "      <td>5</td>\n",
       "      <td>Father of the Bride Part II (1995)</td>\n",
       "      <td>Comedy</td>\n",
       "    </tr>\n",
       "  </tbody>\n",
       "</table>\n",
       "</div>"
      ],
      "text/plain": [
       "   movieId                               title  \\\n",
       "0        1                    Toy Story (1995)   \n",
       "1        2                      Jumanji (1995)   \n",
       "2        3             Grumpier Old Men (1995)   \n",
       "3        4            Waiting to Exhale (1995)   \n",
       "4        5  Father of the Bride Part II (1995)   \n",
       "\n",
       "                                        genres  \n",
       "0  Adventure|Animation|Children|Comedy|Fantasy  \n",
       "1                   Adventure|Children|Fantasy  \n",
       "2                               Comedy|Romance  \n",
       "3                         Comedy|Drama|Romance  \n",
       "4                                       Comedy  "
      ]
     },
     "execution_count": 112,
     "metadata": {},
     "output_type": "execute_result"
    }
   ],
   "source": [
    "movies_df.head()"
   ]
  },
  {
   "cell_type": "code",
   "execution_count": 113,
   "id": "bf6f63ad-d420-4e59-be83-9470c383dad8",
   "metadata": {},
   "outputs": [
    {
     "data": {
      "text/html": [
       "<div>\n",
       "<style scoped>\n",
       "    .dataframe tbody tr th:only-of-type {\n",
       "        vertical-align: middle;\n",
       "    }\n",
       "\n",
       "    .dataframe tbody tr th {\n",
       "        vertical-align: top;\n",
       "    }\n",
       "\n",
       "    .dataframe thead th {\n",
       "        text-align: right;\n",
       "    }\n",
       "</style>\n",
       "<table border=\"1\" class=\"dataframe\">\n",
       "  <thead>\n",
       "    <tr style=\"text-align: right;\">\n",
       "      <th></th>\n",
       "      <th>userId</th>\n",
       "      <th>movieId</th>\n",
       "      <th>rating</th>\n",
       "      <th>timestamp</th>\n",
       "    </tr>\n",
       "  </thead>\n",
       "  <tbody>\n",
       "    <tr>\n",
       "      <th>0</th>\n",
       "      <td>1</td>\n",
       "      <td>1</td>\n",
       "      <td>4.0</td>\n",
       "      <td>1225734739</td>\n",
       "    </tr>\n",
       "    <tr>\n",
       "      <th>1</th>\n",
       "      <td>1</td>\n",
       "      <td>110</td>\n",
       "      <td>4.0</td>\n",
       "      <td>1225865086</td>\n",
       "    </tr>\n",
       "    <tr>\n",
       "      <th>2</th>\n",
       "      <td>1</td>\n",
       "      <td>158</td>\n",
       "      <td>4.0</td>\n",
       "      <td>1225733503</td>\n",
       "    </tr>\n",
       "    <tr>\n",
       "      <th>3</th>\n",
       "      <td>1</td>\n",
       "      <td>260</td>\n",
       "      <td>4.5</td>\n",
       "      <td>1225735204</td>\n",
       "    </tr>\n",
       "    <tr>\n",
       "      <th>4</th>\n",
       "      <td>1</td>\n",
       "      <td>356</td>\n",
       "      <td>5.0</td>\n",
       "      <td>1225735119</td>\n",
       "    </tr>\n",
       "  </tbody>\n",
       "</table>\n",
       "</div>"
      ],
      "text/plain": [
       "   userId  movieId  rating   timestamp\n",
       "0       1        1     4.0  1225734739\n",
       "1       1      110     4.0  1225865086\n",
       "2       1      158     4.0  1225733503\n",
       "3       1      260     4.5  1225735204\n",
       "4       1      356     5.0  1225735119"
      ]
     },
     "execution_count": 113,
     "metadata": {},
     "output_type": "execute_result"
    }
   ],
   "source": [
    "ratings_df.head()"
   ]
  },
  {
   "cell_type": "code",
   "execution_count": 114,
   "id": "a1a42d58-04f6-4ec6-ac4a-4a6766f633ed",
   "metadata": {},
   "outputs": [
    {
     "data": {
      "text/html": [
       "<div>\n",
       "<style scoped>\n",
       "    .dataframe tbody tr th:only-of-type {\n",
       "        vertical-align: middle;\n",
       "    }\n",
       "\n",
       "    .dataframe tbody tr th {\n",
       "        vertical-align: top;\n",
       "    }\n",
       "\n",
       "    .dataframe thead th {\n",
       "        text-align: right;\n",
       "    }\n",
       "</style>\n",
       "<table border=\"1\" class=\"dataframe\">\n",
       "  <thead>\n",
       "    <tr style=\"text-align: right;\">\n",
       "      <th></th>\n",
       "      <th>movieId</th>\n",
       "      <th>imdbId</th>\n",
       "      <th>tmdbId</th>\n",
       "    </tr>\n",
       "  </thead>\n",
       "  <tbody>\n",
       "    <tr>\n",
       "      <th>0</th>\n",
       "      <td>1</td>\n",
       "      <td>114709</td>\n",
       "      <td>862.0</td>\n",
       "    </tr>\n",
       "    <tr>\n",
       "      <th>1</th>\n",
       "      <td>2</td>\n",
       "      <td>113497</td>\n",
       "      <td>8844.0</td>\n",
       "    </tr>\n",
       "    <tr>\n",
       "      <th>2</th>\n",
       "      <td>3</td>\n",
       "      <td>113228</td>\n",
       "      <td>15602.0</td>\n",
       "    </tr>\n",
       "    <tr>\n",
       "      <th>3</th>\n",
       "      <td>4</td>\n",
       "      <td>114885</td>\n",
       "      <td>31357.0</td>\n",
       "    </tr>\n",
       "    <tr>\n",
       "      <th>4</th>\n",
       "      <td>5</td>\n",
       "      <td>113041</td>\n",
       "      <td>11862.0</td>\n",
       "    </tr>\n",
       "  </tbody>\n",
       "</table>\n",
       "</div>"
      ],
      "text/plain": [
       "   movieId  imdbId   tmdbId\n",
       "0        1  114709    862.0\n",
       "1        2  113497   8844.0\n",
       "2        3  113228  15602.0\n",
       "3        4  114885  31357.0\n",
       "4        5  113041  11862.0"
      ]
     },
     "execution_count": 114,
     "metadata": {},
     "output_type": "execute_result"
    }
   ],
   "source": [
    "links_df.head()"
   ]
  },
  {
   "cell_type": "code",
   "execution_count": 115,
   "id": "e20ff38b-efae-49c1-8836-f306e0878d1d",
   "metadata": {},
   "outputs": [
    {
     "data": {
      "text/html": [
       "<div>\n",
       "<style scoped>\n",
       "    .dataframe tbody tr th:only-of-type {\n",
       "        vertical-align: middle;\n",
       "    }\n",
       "\n",
       "    .dataframe tbody tr th {\n",
       "        vertical-align: top;\n",
       "    }\n",
       "\n",
       "    .dataframe thead th {\n",
       "        text-align: right;\n",
       "    }\n",
       "</style>\n",
       "<table border=\"1\" class=\"dataframe\">\n",
       "  <thead>\n",
       "    <tr style=\"text-align: right;\">\n",
       "      <th></th>\n",
       "      <th>userId</th>\n",
       "      <th>movieId</th>\n",
       "      <th>rating</th>\n",
       "      <th>timestamp</th>\n",
       "      <th>title</th>\n",
       "      <th>genres</th>\n",
       "    </tr>\n",
       "  </thead>\n",
       "  <tbody>\n",
       "    <tr>\n",
       "      <th>0</th>\n",
       "      <td>1</td>\n",
       "      <td>1</td>\n",
       "      <td>4.0</td>\n",
       "      <td>1225734739</td>\n",
       "      <td>Toy Story (1995)</td>\n",
       "      <td>Adventure|Animation|Children|Comedy|Fantasy</td>\n",
       "    </tr>\n",
       "    <tr>\n",
       "      <th>1</th>\n",
       "      <td>2</td>\n",
       "      <td>1</td>\n",
       "      <td>5.0</td>\n",
       "      <td>835815971</td>\n",
       "      <td>Toy Story (1995)</td>\n",
       "      <td>Adventure|Animation|Children|Comedy|Fantasy</td>\n",
       "    </tr>\n",
       "    <tr>\n",
       "      <th>2</th>\n",
       "      <td>7</td>\n",
       "      <td>1</td>\n",
       "      <td>4.0</td>\n",
       "      <td>974518024</td>\n",
       "      <td>Toy Story (1995)</td>\n",
       "      <td>Adventure|Animation|Children|Comedy|Fantasy</td>\n",
       "    </tr>\n",
       "    <tr>\n",
       "      <th>3</th>\n",
       "      <td>10</td>\n",
       "      <td>1</td>\n",
       "      <td>3.0</td>\n",
       "      <td>1430666394</td>\n",
       "      <td>Toy Story (1995)</td>\n",
       "      <td>Adventure|Animation|Children|Comedy|Fantasy</td>\n",
       "    </tr>\n",
       "    <tr>\n",
       "      <th>4</th>\n",
       "      <td>12</td>\n",
       "      <td>1</td>\n",
       "      <td>5.0</td>\n",
       "      <td>862500738</td>\n",
       "      <td>Toy Story (1995)</td>\n",
       "      <td>Adventure|Animation|Children|Comedy|Fantasy</td>\n",
       "    </tr>\n",
       "  </tbody>\n",
       "</table>\n",
       "</div>"
      ],
      "text/plain": [
       "   userId  movieId  rating   timestamp             title  \\\n",
       "0       1        1     4.0  1225734739  Toy Story (1995)   \n",
       "1       2        1     5.0   835815971  Toy Story (1995)   \n",
       "2       7        1     4.0   974518024  Toy Story (1995)   \n",
       "3      10        1     3.0  1430666394  Toy Story (1995)   \n",
       "4      12        1     5.0   862500738  Toy Story (1995)   \n",
       "\n",
       "                                        genres  \n",
       "0  Adventure|Animation|Children|Comedy|Fantasy  \n",
       "1  Adventure|Animation|Children|Comedy|Fantasy  \n",
       "2  Adventure|Animation|Children|Comedy|Fantasy  \n",
       "3  Adventure|Animation|Children|Comedy|Fantasy  \n",
       "4  Adventure|Animation|Children|Comedy|Fantasy  "
      ]
     },
     "execution_count": 115,
     "metadata": {},
     "output_type": "execute_result"
    }
   ],
   "source": [
    "movie_data = pd.merge(ratings_df, movies_df, on = 'movieId')\n",
    "movie_data.head()"
   ]
  },
  {
   "cell_type": "code",
   "execution_count": 116,
   "id": "1c56612f-9ce9-4fd3-b66a-ccc4e63fbdaf",
   "metadata": {},
   "outputs": [],
   "source": [
    "movie_ratings = (\n",
    "    movie_data.groupby(\"title\")[\"rating\"]\n",
    "    .agg(avg_rating=lambda x: round(x.mean(), 1), rating_counts=\"count\")\n",
    "    .reset_index()\n",
    ")"
   ]
  },
  {
   "cell_type": "code",
   "execution_count": 117,
   "id": "219b23de-d94e-46ef-985c-f3ac5efb48d5",
   "metadata": {},
   "outputs": [
    {
     "data": {
      "text/html": [
       "<div>\n",
       "<style scoped>\n",
       "    .dataframe tbody tr th:only-of-type {\n",
       "        vertical-align: middle;\n",
       "    }\n",
       "\n",
       "    .dataframe tbody tr th {\n",
       "        vertical-align: top;\n",
       "    }\n",
       "\n",
       "    .dataframe thead th {\n",
       "        text-align: right;\n",
       "    }\n",
       "</style>\n",
       "<table border=\"1\" class=\"dataframe\">\n",
       "  <thead>\n",
       "    <tr style=\"text-align: right;\">\n",
       "      <th></th>\n",
       "      <th>title</th>\n",
       "      <th>avg_rating</th>\n",
       "      <th>rating_counts</th>\n",
       "    </tr>\n",
       "  </thead>\n",
       "  <tbody>\n",
       "    <tr>\n",
       "      <th>0</th>\n",
       "      <td>(2019)</td>\n",
       "      <td>2.7</td>\n",
       "      <td>37</td>\n",
       "    </tr>\n",
       "    <tr>\n",
       "      <th>1</th>\n",
       "      <td>\"BLOW THE NIGHT!\" Let's Spend the Night Togeth...</td>\n",
       "      <td>2.0</td>\n",
       "      <td>2</td>\n",
       "    </tr>\n",
       "    <tr>\n",
       "      <th>2</th>\n",
       "      <td>\"Great Performances\" Cats (1998)</td>\n",
       "      <td>2.9</td>\n",
       "      <td>275</td>\n",
       "    </tr>\n",
       "    <tr>\n",
       "      <th>3</th>\n",
       "      <td>\"Sr.\" (2022)</td>\n",
       "      <td>3.2</td>\n",
       "      <td>11</td>\n",
       "    </tr>\n",
       "    <tr>\n",
       "      <th>4</th>\n",
       "      <td>#1 Cheerleader Camp (2010)</td>\n",
       "      <td>2.2</td>\n",
       "      <td>15</td>\n",
       "    </tr>\n",
       "  </tbody>\n",
       "</table>\n",
       "</div>"
      ],
      "text/plain": [
       "                                               title  avg_rating  \\\n",
       "0                                             (2019)         2.7   \n",
       "1  \"BLOW THE NIGHT!\" Let's Spend the Night Togeth...         2.0   \n",
       "2                   \"Great Performances\" Cats (1998)         2.9   \n",
       "3                                       \"Sr.\" (2022)         3.2   \n",
       "4                         #1 Cheerleader Camp (2010)         2.2   \n",
       "\n",
       "   rating_counts  \n",
       "0             37  \n",
       "1              2  \n",
       "2            275  \n",
       "3             11  \n",
       "4             15  "
      ]
     },
     "execution_count": 117,
     "metadata": {},
     "output_type": "execute_result"
    }
   ],
   "source": [
    "movie_ratings.head()"
   ]
  },
  {
   "cell_type": "code",
   "execution_count": 118,
   "id": "8ee980e4-fa0c-43a3-b91e-abcf489ee5fc",
   "metadata": {},
   "outputs": [
    {
     "data": {
      "text/html": [
       "<div>\n",
       "<style scoped>\n",
       "    .dataframe tbody tr th:only-of-type {\n",
       "        vertical-align: middle;\n",
       "    }\n",
       "\n",
       "    .dataframe tbody tr th {\n",
       "        vertical-align: top;\n",
       "    }\n",
       "\n",
       "    .dataframe thead th {\n",
       "        text-align: right;\n",
       "    }\n",
       "</style>\n",
       "<table border=\"1\" class=\"dataframe\">\n",
       "  <thead>\n",
       "    <tr style=\"text-align: right;\">\n",
       "      <th></th>\n",
       "      <th>title</th>\n",
       "      <th>avg_rating</th>\n",
       "      <th>rating_counts</th>\n",
       "    </tr>\n",
       "  </thead>\n",
       "  <tbody>\n",
       "    <tr>\n",
       "      <th>51240</th>\n",
       "      <td>Planet Earth II (2016)</td>\n",
       "      <td>4.5</td>\n",
       "      <td>2041</td>\n",
       "    </tr>\n",
       "    <tr>\n",
       "      <th>7305</th>\n",
       "      <td>Band of Brothers (2001)</td>\n",
       "      <td>4.4</td>\n",
       "      <td>2835</td>\n",
       "    </tr>\n",
       "    <tr>\n",
       "      <th>51239</th>\n",
       "      <td>Planet Earth (2006)</td>\n",
       "      <td>4.4</td>\n",
       "      <td>3015</td>\n",
       "    </tr>\n",
       "    <tr>\n",
       "      <th>57966</th>\n",
       "      <td>Shawshank Redemption, The (1994)</td>\n",
       "      <td>4.4</td>\n",
       "      <td>122296</td>\n",
       "    </tr>\n",
       "    <tr>\n",
       "      <th>27011</th>\n",
       "      <td>Godfather, The (1972)</td>\n",
       "      <td>4.3</td>\n",
       "      <td>75004</td>\n",
       "    </tr>\n",
       "  </tbody>\n",
       "</table>\n",
       "</div>"
      ],
      "text/plain": [
       "                                  title  avg_rating  rating_counts\n",
       "51240            Planet Earth II (2016)         4.5           2041\n",
       "7305            Band of Brothers (2001)         4.4           2835\n",
       "51239               Planet Earth (2006)         4.4           3015\n",
       "57966  Shawshank Redemption, The (1994)         4.4         122296\n",
       "27011             Godfather, The (1972)         4.3          75004"
      ]
     },
     "execution_count": 118,
     "metadata": {},
     "output_type": "execute_result"
    }
   ],
   "source": [
    "top_list = movie_ratings[(movie_ratings['avg_rating'] > AVG_RATING) & (movie_ratings['rating_counts'] > RATING_COUNT)]\n",
    "top_list = top_list.sort_values(by='avg_rating', ascending = False)\n",
    "top_list.head()"
   ]
  },
  {
   "cell_type": "code",
   "execution_count": 119,
   "id": "1c2c0c6a-c248-48d7-a500-a3b63fe18014",
   "metadata": {},
   "outputs": [
    {
     "name": "stdout",
     "output_type": "stream",
     "text": [
      "                                             title  avg_rating  rating_counts\n",
      "51240                       Planet Earth II (2016)         4.5           2041\n",
      "7305                       Band of Brothers (2001)         4.4           2835\n",
      "51239                          Planet Earth (2006)         4.4           3015\n",
      "57966             Shawshank Redemption, The (1994)         4.4         122296\n",
      "27011                        Godfather, The (1972)         4.3          75004\n",
      "77946                   Usual Suspects, The (1995)         4.3          72893\n",
      "27012               Godfather: Part II, The (1974)         4.3          47271\n",
      "57521  Seven Samurai (Shichinin no samurai) (1954)         4.3          17120\n",
      "49890                              Parasite (2019)         4.3          12399\n",
      "256                            12 Angry Men (1957)         4.3          22730\n"
     ]
    }
   ],
   "source": [
    "top10 = top_list.head(10)\n",
    "print(top10)"
   ]
  },
  {
   "cell_type": "code",
   "execution_count": 120,
   "id": "0e3226db-86d1-4dc3-88db-e51a37d4d5fd",
   "metadata": {},
   "outputs": [],
   "source": [
    "merged_df = pd.merge(top_list, movies_df, on= \"title\")"
   ]
  },
  {
   "cell_type": "code",
   "execution_count": 121,
   "id": "e9be323b-a3c1-46e3-810f-9392252b8f83",
   "metadata": {},
   "outputs": [],
   "source": [
    "merged_df = pd.merge(merged_df, links_df, on=\"movieId\")"
   ]
  },
  {
   "cell_type": "code",
   "execution_count": 90,
   "id": "45e01346-22c5-4252-8ac0-1e7e0fc07b45",
   "metadata": {},
   "outputs": [
    {
     "data": {
      "text/html": [
       "<div>\n",
       "<style scoped>\n",
       "    .dataframe tbody tr th:only-of-type {\n",
       "        vertical-align: middle;\n",
       "    }\n",
       "\n",
       "    .dataframe tbody tr th {\n",
       "        vertical-align: top;\n",
       "    }\n",
       "\n",
       "    .dataframe thead th {\n",
       "        text-align: right;\n",
       "    }\n",
       "</style>\n",
       "<table border=\"1\" class=\"dataframe\">\n",
       "  <thead>\n",
       "    <tr style=\"text-align: right;\">\n",
       "      <th></th>\n",
       "      <th>title</th>\n",
       "      <th>avg_rating</th>\n",
       "      <th>rating_counts</th>\n",
       "      <th>movieId</th>\n",
       "      <th>genres</th>\n",
       "      <th>imdbId</th>\n",
       "      <th>tmdbId</th>\n",
       "    </tr>\n",
       "  </thead>\n",
       "  <tbody>\n",
       "    <tr>\n",
       "      <th>0</th>\n",
       "      <td>Planet Earth II (2016)</td>\n",
       "      <td>4.5</td>\n",
       "      <td>2041</td>\n",
       "      <td>171011</td>\n",
       "      <td>Documentary</td>\n",
       "      <td>5491994</td>\n",
       "      <td>420714.0</td>\n",
       "    </tr>\n",
       "    <tr>\n",
       "      <th>1</th>\n",
       "      <td>Band of Brothers (2001)</td>\n",
       "      <td>4.4</td>\n",
       "      <td>2835</td>\n",
       "      <td>170705</td>\n",
       "      <td>Action|Drama|War</td>\n",
       "      <td>185906</td>\n",
       "      <td>331214.0</td>\n",
       "    </tr>\n",
       "    <tr>\n",
       "      <th>2</th>\n",
       "      <td>Planet Earth (2006)</td>\n",
       "      <td>4.4</td>\n",
       "      <td>3015</td>\n",
       "      <td>159817</td>\n",
       "      <td>Documentary</td>\n",
       "      <td>795176</td>\n",
       "      <td>192040.0</td>\n",
       "    </tr>\n",
       "    <tr>\n",
       "      <th>3</th>\n",
       "      <td>Shawshank Redemption, The (1994)</td>\n",
       "      <td>4.4</td>\n",
       "      <td>122296</td>\n",
       "      <td>318</td>\n",
       "      <td>Crime|Drama</td>\n",
       "      <td>111161</td>\n",
       "      <td>278.0</td>\n",
       "    </tr>\n",
       "    <tr>\n",
       "      <th>4</th>\n",
       "      <td>Godfather, The (1972)</td>\n",
       "      <td>4.3</td>\n",
       "      <td>75004</td>\n",
       "      <td>858</td>\n",
       "      <td>Crime|Drama</td>\n",
       "      <td>68646</td>\n",
       "      <td>238.0</td>\n",
       "    </tr>\n",
       "  </tbody>\n",
       "</table>\n",
       "</div>"
      ],
      "text/plain": [
       "                              title  avg_rating  rating_counts  movieId  \\\n",
       "0            Planet Earth II (2016)         4.5           2041   171011   \n",
       "1           Band of Brothers (2001)         4.4           2835   170705   \n",
       "2               Planet Earth (2006)         4.4           3015   159817   \n",
       "3  Shawshank Redemption, The (1994)         4.4         122296      318   \n",
       "4             Godfather, The (1972)         4.3          75004      858   \n",
       "\n",
       "             genres   imdbId    tmdbId  \n",
       "0       Documentary  5491994  420714.0  \n",
       "1  Action|Drama|War   185906  331214.0  \n",
       "2       Documentary   795176  192040.0  \n",
       "3       Crime|Drama   111161     278.0  \n",
       "4       Crime|Drama    68646     238.0  "
      ]
     },
     "execution_count": 90,
     "metadata": {},
     "output_type": "execute_result"
    }
   ],
   "source": [
    "merged_df.head()"
   ]
  },
  {
   "cell_type": "code",
   "execution_count": 122,
   "id": "20b00cb1-bd50-4e6b-9bd2-8be281052e9f",
   "metadata": {},
   "outputs": [
    {
     "data": {
      "text/plain": [
       "(2436, 7)"
      ]
     },
     "execution_count": 122,
     "metadata": {},
     "output_type": "execute_result"
    }
   ],
   "source": [
    "merged_df.shape"
   ]
  },
  {
   "cell_type": "code",
   "execution_count": 123,
   "id": "d4721e5b-7277-4988-be45-17711fcb27dd",
   "metadata": {},
   "outputs": [
    {
     "data": {
      "text/html": [
       "<div>\n",
       "<style scoped>\n",
       "    .dataframe tbody tr th:only-of-type {\n",
       "        vertical-align: middle;\n",
       "    }\n",
       "\n",
       "    .dataframe tbody tr th {\n",
       "        vertical-align: top;\n",
       "    }\n",
       "\n",
       "    .dataframe thead th {\n",
       "        text-align: right;\n",
       "    }\n",
       "</style>\n",
       "<table border=\"1\" class=\"dataframe\">\n",
       "  <thead>\n",
       "    <tr style=\"text-align: right;\">\n",
       "      <th></th>\n",
       "      <th>title</th>\n",
       "      <th>avg_rating</th>\n",
       "      <th>rating_counts</th>\n",
       "      <th>movieId</th>\n",
       "      <th>genres</th>\n",
       "      <th>imdbId</th>\n",
       "      <th>tmdbId</th>\n",
       "    </tr>\n",
       "  </thead>\n",
       "  <tbody>\n",
       "    <tr>\n",
       "      <th>0</th>\n",
       "      <td>Planet Earth II (2016)</td>\n",
       "      <td>4.5</td>\n",
       "      <td>2041</td>\n",
       "      <td>171011</td>\n",
       "      <td>Documentary</td>\n",
       "      <td>5491994</td>\n",
       "      <td>420714.0</td>\n",
       "    </tr>\n",
       "  </tbody>\n",
       "</table>\n",
       "</div>"
      ],
      "text/plain": [
       "                    title  avg_rating  rating_counts  movieId       genres  \\\n",
       "0  Planet Earth II (2016)         4.5           2041   171011  Documentary   \n",
       "\n",
       "    imdbId    tmdbId  \n",
       "0  5491994  420714.0  "
      ]
     },
     "execution_count": 123,
     "metadata": {},
     "output_type": "execute_result"
    }
   ],
   "source": [
    "merged_df[merged_df[\"movieId\"] == 171011]"
   ]
  },
  {
   "cell_type": "code",
   "execution_count": 124,
   "id": "0c572d25-558c-4d97-b663-9a5d0074fd83",
   "metadata": {},
   "outputs": [],
   "source": [
    "from typing import List, Dict, Any\n",
    "\n",
    "class UserTest:\n",
    "    def __init__(self, userId: int, ratings: list = []):\n",
    "        self.userId = userId\n",
    "        self.ratings = []\n",
    "        self.watchedList = []\n",
    "\n",
    "    def _get_user_info(self) -> List[Dict[str, Any]]:\n",
    "        print(f\"User's id is: {self.userId} \")\n",
    "        print(f\"User's ratings are: {self.ratings}\")\n",
    "        print(f\"User's watched list is: {self.watchedList}\")\n",
    "\n",
    "    def _add_rating(self, movieId, rating):\n",
    "        rating = {movieId, rating}\n",
    "        self.ratings.append(rating)\n",
    "\n",
    "    def _add_movies_to_list(self, movieId):\n",
    "        self.watchedList.append(movieId)"
   ]
  },
  {
   "cell_type": "code",
   "execution_count": 125,
   "id": "354b86f1-d32d-4632-b3de-74e3661645cf",
   "metadata": {},
   "outputs": [],
   "source": [
    "furkan = UserTest(userId = 1)"
   ]
  },
  {
   "cell_type": "code",
   "execution_count": 126,
   "id": "ef258e9f-69d1-44e8-a421-0c7138de6f9c",
   "metadata": {},
   "outputs": [],
   "source": [
    "furkan._add_rating(171011, 4)"
   ]
  },
  {
   "cell_type": "code",
   "execution_count": 127,
   "id": "4c47237b-e0ea-47c4-afc9-3c91877bca6e",
   "metadata": {},
   "outputs": [],
   "source": [
    "furkan._add_movies_to_list(171011)"
   ]
  },
  {
   "cell_type": "code",
   "execution_count": 128,
   "id": "4a28009d-97bc-41c3-8573-893f57a0df03",
   "metadata": {},
   "outputs": [
    {
     "name": "stdout",
     "output_type": "stream",
     "text": [
      "User's id is: 1 \n",
      "User's ratings are: [{171011, 4}]\n",
      "User's watched list is: [171011]\n"
     ]
    }
   ],
   "source": [
    "furkan._get_user_info()"
   ]
  },
  {
   "cell_type": "markdown",
   "id": "d9b7eef0-e0ad-4c33-90a2-6d4b4546fff5",
   "metadata": {},
   "source": [
    "## Trending Based Recommendation"
   ]
  },
  {
   "cell_type": "markdown",
   "id": "78b5b0fd-4616-481a-aaf5-c06efa15a8a3",
   "metadata": {},
   "source": [
    "I want to handle popularity-based recommendations in two ways: the first representing overall yearly popularity across the movie sector, and the second focusing on recent trends (maybe from the last two years)"
   ]
  },
  {
   "cell_type": "code",
   "execution_count": 129,
   "id": "853437de-22c9-48e7-8d4e-a77c3fdcd2b8",
   "metadata": {},
   "outputs": [
    {
     "data": {
      "text/html": [
       "<div>\n",
       "<style scoped>\n",
       "    .dataframe tbody tr th:only-of-type {\n",
       "        vertical-align: middle;\n",
       "    }\n",
       "\n",
       "    .dataframe tbody tr th {\n",
       "        vertical-align: top;\n",
       "    }\n",
       "\n",
       "    .dataframe thead th {\n",
       "        text-align: right;\n",
       "    }\n",
       "</style>\n",
       "<table border=\"1\" class=\"dataframe\">\n",
       "  <thead>\n",
       "    <tr style=\"text-align: right;\">\n",
       "      <th></th>\n",
       "      <th>title</th>\n",
       "      <th>avg_rating</th>\n",
       "      <th>rating_counts</th>\n",
       "      <th>movieId</th>\n",
       "      <th>genres</th>\n",
       "      <th>imdbId</th>\n",
       "      <th>tmdbId</th>\n",
       "    </tr>\n",
       "  </thead>\n",
       "  <tbody>\n",
       "    <tr>\n",
       "      <th>0</th>\n",
       "      <td>Planet Earth II (2016)</td>\n",
       "      <td>4.5</td>\n",
       "      <td>2041</td>\n",
       "      <td>171011</td>\n",
       "      <td>Documentary</td>\n",
       "      <td>5491994</td>\n",
       "      <td>420714.0</td>\n",
       "    </tr>\n",
       "    <tr>\n",
       "      <th>1</th>\n",
       "      <td>Band of Brothers (2001)</td>\n",
       "      <td>4.4</td>\n",
       "      <td>2835</td>\n",
       "      <td>170705</td>\n",
       "      <td>Action|Drama|War</td>\n",
       "      <td>185906</td>\n",
       "      <td>331214.0</td>\n",
       "    </tr>\n",
       "    <tr>\n",
       "      <th>2</th>\n",
       "      <td>Planet Earth (2006)</td>\n",
       "      <td>4.4</td>\n",
       "      <td>3015</td>\n",
       "      <td>159817</td>\n",
       "      <td>Documentary</td>\n",
       "      <td>795176</td>\n",
       "      <td>192040.0</td>\n",
       "    </tr>\n",
       "    <tr>\n",
       "      <th>3</th>\n",
       "      <td>Shawshank Redemption, The (1994)</td>\n",
       "      <td>4.4</td>\n",
       "      <td>122296</td>\n",
       "      <td>318</td>\n",
       "      <td>Crime|Drama</td>\n",
       "      <td>111161</td>\n",
       "      <td>278.0</td>\n",
       "    </tr>\n",
       "    <tr>\n",
       "      <th>4</th>\n",
       "      <td>Godfather, The (1972)</td>\n",
       "      <td>4.3</td>\n",
       "      <td>75004</td>\n",
       "      <td>858</td>\n",
       "      <td>Crime|Drama</td>\n",
       "      <td>68646</td>\n",
       "      <td>238.0</td>\n",
       "    </tr>\n",
       "  </tbody>\n",
       "</table>\n",
       "</div>"
      ],
      "text/plain": [
       "                              title  avg_rating  rating_counts  movieId  \\\n",
       "0            Planet Earth II (2016)         4.5           2041   171011   \n",
       "1           Band of Brothers (2001)         4.4           2835   170705   \n",
       "2               Planet Earth (2006)         4.4           3015   159817   \n",
       "3  Shawshank Redemption, The (1994)         4.4         122296      318   \n",
       "4             Godfather, The (1972)         4.3          75004      858   \n",
       "\n",
       "             genres   imdbId    tmdbId  \n",
       "0       Documentary  5491994  420714.0  \n",
       "1  Action|Drama|War   185906  331214.0  \n",
       "2       Documentary   795176  192040.0  \n",
       "3       Crime|Drama   111161     278.0  \n",
       "4       Crime|Drama    68646     238.0  "
      ]
     },
     "execution_count": 129,
     "metadata": {},
     "output_type": "execute_result"
    }
   ],
   "source": [
    "merged_df.head()"
   ]
  },
  {
   "cell_type": "markdown",
   "id": "4b77cb3a-51b4-468e-a9de-dd604416f85a",
   "metadata": {},
   "source": [
    "As you can see, we have the imdbId, ratings, and movieId, but no information about the movie’s release date. Now, we need to get the release year from IMDb using the imdbId."
   ]
  },
  {
   "cell_type": "code",
   "execution_count": null,
   "id": "2b19e988-782b-4a27-80ec-0bbeef2036d6",
   "metadata": {},
   "outputs": [
    {
     "name": "stdout",
     "output_type": "stream",
     "text": [
      "Şu an https://www.imdb.com/title/tt5491994/ sayfasına gidiliyor...\n",
      "Bulunan release date: 2016\n",
      "Şu an https://www.imdb.com/title/tt0185906/ sayfasına gidiliyor...\n",
      "Bulunan release date: 2001\n",
      "Şu an https://www.imdb.com/title/tt0795176/ sayfasına gidiliyor...\n",
      "Bulunan release date: 2006\n",
      "Şu an https://www.imdb.com/title/tt0111161/ sayfasına gidiliyor...\n",
      "Bulunan release date: 1994\n",
      "Şu an https://www.imdb.com/title/tt0068646/ sayfasına gidiliyor...\n",
      "Bulunan release date: 1972\n",
      "Şu an https://www.imdb.com/title/tt0114814/ sayfasına gidiliyor...\n",
      "Bulunan release date: 1995\n",
      "Şu an https://www.imdb.com/title/tt0071562/ sayfasına gidiliyor...\n",
      "Bulunan release date: 1974\n",
      "Şu an https://www.imdb.com/title/tt0047478/ sayfasına gidiliyor...\n",
      "Bulunan release date: 1954\n",
      "Şu an https://www.imdb.com/title/tt6751668/ sayfasına gidiliyor...\n"
     ]
    }
   ],
   "source": [
    "release_dates = []\n",
    "\n",
    "for imdb_id in merged_df['imdbId']:\n",
    "    imdb_id_str = str(imdb_id).zfill(7)  # 7 haneli hale getir\n",
    "    url = f\"https://www.imdb.com/title/tt{imdb_id_str}/\"\n",
    "    print(f\"Şu an {url} sayfasına gidiliyor...\")\n",
    "\n",
    "    try:\n",
    "        driver.get(url)\n",
    "        release_elem = wait.until(EC.presence_of_element_located((By.CSS_SELECTOR, \"a[href*='releaseinfo']\")))\n",
    "        release_date = release_elem.text\n",
    "        print(f\"Bulunan release date: {release_date}\")\n",
    "    except Exception as e:\n",
    "        print(f\"Hata oluştu: {e}\")\n",
    "        release_date = None\n",
    "\n",
    "    release_dates.append(release_date)\n",
    "\n",
    "driver.quit()\n",
    "\n",
    "merged_df['release_date'] = release_dates\n",
    "print(merged_df)"
   ]
  },
  {
   "cell_type": "code",
   "execution_count": null,
   "id": "89304704-d1aa-404e-992b-a223da4563f2",
   "metadata": {},
   "outputs": [],
   "source": []
  }
 ],
 "metadata": {
  "kernelspec": {
   "display_name": "Python (tf_env)",
   "language": "python",
   "name": "tf_env"
  },
  "language_info": {
   "codemirror_mode": {
    "name": "ipython",
    "version": 3
   },
   "file_extension": ".py",
   "mimetype": "text/x-python",
   "name": "python",
   "nbconvert_exporter": "python",
   "pygments_lexer": "ipython3",
   "version": "3.10.16"
  }
 },
 "nbformat": 4,
 "nbformat_minor": 5
}
